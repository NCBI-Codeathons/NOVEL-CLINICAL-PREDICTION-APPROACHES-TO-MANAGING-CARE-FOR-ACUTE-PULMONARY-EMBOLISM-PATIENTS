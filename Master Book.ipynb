{
 "cells": [
  {
   "cell_type": "markdown",
   "metadata": {},
   "source": [
    "## Imports and reading in data"
   ]
  },
  {
   "cell_type": "code",
   "execution_count": 1,
   "metadata": {},
   "outputs": [],
   "source": [
    "#imports\n",
    "import pandas as pd\n",
    "import numpy as np\n",
    "import os\n",
    "import matplotlib.pyplot as plt\n",
    "from sklearn.metrics import confusion_matrix\n",
    "from sklearn.utils.multiclass import unique_labels\n",
    "import seaborn as sns\n",
    "%matplotlib inline"
   ]
  },
  {
   "cell_type": "code",
   "execution_count": 2,
   "metadata": {},
   "outputs": [],
   "source": [
    "#Paths to files\n",
    "data_path = '/project/hackathon/hackers09/shared/data/'\n",
    "cancer_path = os.path.join(data_path, 'df_cancer.csv')\n",
    "echo_path = os.path.join(data_path, 'df_echo.csv')\n",
    "encounter_path = os.path.join(data_path, 'df_encounter.csv')\n",
    "labs_path = os.path.join(data_path, 'df_labs.csv')\n",
    "outcome_path = os.path.join(data_path, 'df_outcome.csv')\n",
    "problist_path = os.path.join(data_path, 'df_problist.csv')\n",
    "radiology_path = os.path.join(data_path, 'df_radiology.csv')\n",
    "registry_path = os.path.join(data_path, 'df_registry.csv')\n",
    "vitals_path = os.path.join(data_path, 'df_vitals.csv')"
   ]
  },
  {
   "cell_type": "code",
   "execution_count": 3,
   "metadata": {},
   "outputs": [],
   "source": [
    "#Read in dataframes\n",
    "cancer_df = pd.read_csv(cancer_path, encoding='ISO-8859-1')\n",
    "cancer_df.set_index(\"HSP_ENC\", inplace = True)\n",
    "echo_df = pd.read_csv(echo_path, encoding='ISO-8859-1')\n",
    "echo_df.set_index(\"HSP_ENC\", inplace = True)\n",
    "encounter_df = pd.read_csv(encounter_path, encoding='ISO-8859-1')\n",
    "encounter_df.set_index(\"HSP_ENC\", inplace = True)\n",
    "labs_df = pd.read_csv(labs_path, encoding='ISO-8859-1')\n",
    "labs_df.set_index(\"HSP_ENC\", inplace = True)\n",
    "outcome_df = pd.read_csv(outcome_path, encoding='ISO-8859-1')\n",
    "outcome_df.set_index(\"HSP_ENC\", inplace = True)\n",
    "problist_df = pd.read_csv(problist_path, encoding='ISO-8859-1')\n",
    "problist_df.set_index(\"HSP_ENC\", inplace = True)\n",
    "radiology_df = pd.read_csv(radiology_path, encoding='ISO-8859-1')\n",
    "radiology_df.set_index(\"HSP_ENC\", inplace = True)\n",
    "registry_df = pd.read_csv(registry_path, encoding='ISO-8859-1')\n",
    "registry_df.set_index(\"HSP_ENC\", inplace = True)\n",
    "vitals_df = pd.read_csv(vitals_path, encoding='ISO-8859-1')\n",
    "vitals_df.set_index(\"HSP_ENC\", inplace = True)"
   ]
  },
  {
   "cell_type": "markdown",
   "metadata": {},
   "source": [
    "## Define functions to merge datasets"
   ]
  },
  {
   "cell_type": "code",
   "execution_count": 4,
   "metadata": {},
   "outputs": [],
   "source": [
    "#function to merge cancer data\n",
    "def merge_cancer(enc_df, cnc_df):\n",
    "    #Make modifications to cancer df\n",
    "    mod_cancer_df = cnc_df.copy()\n",
    "#     mod_cancer_df.set_index(\"HSP_ENC\", inplace = True)\n",
    "    mod_cancer_df.reset_index(level=0, inplace=True)\n",
    "    mod_cancer_df.loc[mod_cancer_df.cancer_at_enc == 'Unknown, Missing Remission Date', 'cancer_at_enc'] = 'Unknown'\n",
    "    mod_cancer_df.loc[mod_cancer_df.cancer_at_enc == 'Unknown, Previously Positive', 'cancer_at_enc'] = 'Unknown'\n",
    "    mod_cancer_df.loc[mod_cancer_df.cancer_at_enc == 'Unknown, Not Documented', 'cancer_at_enc'] = 'Unknown'\n",
    "    mod_cancer_df.loc[mod_cancer_df.cancer_at_enc == 'Unknown, Not documented', 'cancer_at_enc'] = 'Unknown'\n",
    "    mod_cancer_df.loc[mod_cancer_df.cancer_at_enc == 'No Cancer', 'cancer_at_enc'] = '1'\n",
    "    mod_cancer_df.loc[mod_cancer_df.cancer_at_enc == 'Unknown', 'cancer_at_enc'] = '2'\n",
    "    mod_cancer_df.loc[mod_cancer_df.cancer_at_enc == 'Cancer', 'cancer_at_enc'] = '3'\n",
    "    mod_cancer_df['cancer_at_enc'] = mod_cancer_df['cancer_at_enc'].astype(int)\n",
    "    mod_cancer_df.drop_duplicates(['PATIENT_ID', 'HSP_ENC'])\n",
    "    \n",
    "    #Take only cancer status column with max value\n",
    "    drop_cancer_df = mod_cancer_df[['HSP_ENC', 'cancer_at_enc']]\n",
    "    drop_cancer_df = drop_cancer_df.groupby('HSP_ENC',group_keys=False).apply(lambda x: x.loc[x['cancer_at_enc']==x['cancer_at_enc'].max()])\n",
    "\n",
    "    #Merge with encounter df and drop dups\n",
    "    mergeRes = pd.merge(enc_df, drop_cancer_df, on='HSP_ENC', how='left')\n",
    "    mergeRes = mergeRes.drop_duplicates('HSP_ENC')\n",
    "\n",
    "    #Replace NaN in encounter df with 0 (Never had cancer)\n",
    "    mergeRes['cancer_at_enc'].fillna(0, inplace=True)\n",
    "    \n",
    "    #Renaming the cancer column\n",
    "    mergeRes.rename(columns={'cancer_at_enc': 'CANCER_RANK'}, inplace=True)\n",
    "    \n",
    "    mergeRes.reset_index(drop=True)\n",
    "    mergeRes.set_index(\"HSP_ENC\", inplace = True)\n",
    "    return mergeRes"
   ]
  },
  {
   "cell_type": "code",
   "execution_count": 5,
   "metadata": {},
   "outputs": [],
   "source": [
    "def merge_registry(enc_df, reg_df):\n",
    "    reg_list = reg_df.REGISTRY_NAME.unique().tolist()\n",
    "    reg_df_copy = reg_df.copy()\n",
    "    reg_df_copy.reset_index(level=0, inplace=True)\n",
    "\n",
    "    tst_df = reg_df_copy[['HSP_ENC']].copy()\n",
    "    for item in reg_list:\n",
    "        tst_df[item] = False\n",
    "    tst_df = tst_df.drop_duplicates()\n",
    "\n",
    "\n",
    "    for index, row in reg_df_copy.iterrows():\n",
    "        enc_id = reg_df_copy.iloc[index, 0]\n",
    "        curr_reg = reg_df_copy.iloc[index, 2]\n",
    "        tst_df.loc[tst_df['HSP_ENC'] == enc_id, [curr_reg]] = True\n",
    "\n",
    "    #Merge with encounter df and drop dups\n",
    "    mergeRes = pd.merge(enc_df, tst_df, on='HSP_ENC', how='left')\n",
    "    mergeRes = mergeRes.drop_duplicates('HSP_ENC')\n",
    "    \n",
    "    #Replace NaN in encounter df with False, no record\n",
    "    for item in reg_list:\n",
    "        mergeRes[item].fillna(False, inplace=True)\n",
    "    \n",
    "    mergeRes.set_index(\"HSP_ENC\", inplace = True)\n",
    "    return mergeRes"
   ]
  },
  {
   "cell_type": "code",
   "execution_count": 6,
   "metadata": {},
   "outputs": [],
   "source": [
    "def merge_vitals(enc_df, data_path):\n",
    "    vital_data_path = os.path.join(data_path, 'vitals.csv')\n",
    "    vital_data_df = pd.read_csv(vital_data_path, encoding='ISO-8859-1')\n",
    "    vital_data_df = vital_data_df.drop('Unnamed: 0', 1)\n",
    "    \n",
    "    mergeRes = pd.merge(enc_df, vital_data_df, on='HSP_ENC', how='left')\n",
    "    mergeRes.set_index(\"HSP_ENC\", inplace = True)\n",
    "    return mergeRes"
   ]
  },
  {
   "cell_type": "markdown",
   "metadata": {},
   "source": [
    "##  \n",
    "## Start calling merge functions"
   ]
  },
  {
   "cell_type": "raw",
   "metadata": {},
   "source": [
    "encounter_df = merge_cancer(encounter_df, cancer_df)"
   ]
  },
  {
   "cell_type": "code",
   "execution_count": 7,
   "metadata": {},
   "outputs": [],
   "source": [
    "encounter_df = merge_registry(encounter_df, registry_df)"
   ]
  },
  {
   "cell_type": "code",
   "execution_count": 8,
   "metadata": {},
   "outputs": [],
   "source": [
    "encounter_df = merge_vitals(encounter_df, data_path)"
   ]
  },
  {
   "cell_type": "code",
   "execution_count": null,
   "metadata": {},
   "outputs": [],
   "source": []
  },
  {
   "cell_type": "code",
   "execution_count": null,
   "metadata": {},
   "outputs": [],
   "source": []
  },
  {
   "cell_type": "markdown",
   "metadata": {},
   "source": [
    "##  \n",
    "## Testing stuff"
   ]
  },
  {
   "cell_type": "code",
   "execution_count": null,
   "metadata": {},
   "outputs": [],
   "source": []
  },
  {
   "cell_type": "code",
   "execution_count": null,
   "metadata": {},
   "outputs": [],
   "source": []
  },
  {
   "cell_type": "code",
   "execution_count": null,
   "metadata": {},
   "outputs": [],
   "source": []
  },
  {
   "cell_type": "code",
   "execution_count": null,
   "metadata": {},
   "outputs": [],
   "source": []
  },
  {
   "cell_type": "code",
   "execution_count": null,
   "metadata": {},
   "outputs": [],
   "source": []
  },
  {
   "cell_type": "code",
   "execution_count": null,
   "metadata": {},
   "outputs": [],
   "source": []
  },
  {
   "cell_type": "code",
   "execution_count": null,
   "metadata": {},
   "outputs": [],
   "source": []
  }
 ],
 "metadata": {
  "kernelspec": {
   "display_name": "Python 3",
   "language": "python",
   "name": "python3"
  },
  "language_info": {
   "codemirror_mode": {
    "name": "ipython",
    "version": 3
   },
   "file_extension": ".py",
   "mimetype": "text/x-python",
   "name": "python",
   "nbconvert_exporter": "python",
   "pygments_lexer": "ipython3",
   "version": "3.7.5"
  }
 },
 "nbformat": 4,
 "nbformat_minor": 2
}
