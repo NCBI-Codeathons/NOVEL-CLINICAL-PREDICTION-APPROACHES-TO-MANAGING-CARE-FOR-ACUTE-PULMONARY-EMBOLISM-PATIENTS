{
 "cells": [
  {
   "cell_type": "code",
   "execution_count": 18,
   "metadata": {},
   "outputs": [],
   "source": [
    "import pandas as pd\n",
    "import numpy as np\n",
    "from fuzzywuzzy import fuzz\n",
    "import os\n",
    "import nltk\n",
    "from nltk.tokenize import word_tokenize\n",
    "from sklearn.feature_extraction.stop_words import ENGLISH_STOP_WORDS\n",
    "import re\n",
    "import string\n",
    "from nltk import ngrams\n",
    "import seaborn as sns\n",
    "from matplotlib import pyplot as plt"
   ]
  },
  {
   "cell_type": "code",
   "execution_count": 2,
   "metadata": {},
   "outputs": [],
   "source": [
    "strDataDir = '/project/hackathon/hackers09/hack095/NOVEL-CLINICAL-PREDICTION-APPROACHES-TO-MANAGING-CARE-FOR-ACUTE-PULMONARY-EMBOLISM-PATIENTS/'\n",
    "strMergedCsv = os.path.join(strDataDir, 'enc_outcome_echo.csv')"
   ]
  },
  {
   "cell_type": "code",
   "execution_count": 3,
   "metadata": {},
   "outputs": [],
   "source": [
    "dfMerged = pd.read_csv(strMergedCsv, index_col=0)"
   ]
  },
  {
   "cell_type": "code",
   "execution_count": 12,
   "metadata": {},
   "outputs": [],
   "source": [
    "def preproc_string(strInput):\n",
    "    strInput = strInput.lower() # to lower case\n",
    "    strInput = re.sub(r'\\d+','',strInput) # remove numbers\n",
    "    # remove punctuation\n",
    "    exclude = set(string.punctuation)\n",
    "    strInput = ''.join(ch for ch in strInput if ch not in exclude)\n",
    "    # remove stop words\n",
    "    exclude = ENGLISH_STOP_WORDS\n",
    "    strInput = ''.join(ch for ch in strInput if ch not in exclude)\n",
    "\n",
    "    return strInput"
   ]
  },
  {
   "cell_type": "code",
   "execution_count": 9,
   "metadata": {},
   "outputs": [],
   "source": [
    "def get_max_fuzz(strInput, nGram, objFuzzFunction, strCompare):\n",
    "    tokens = word_tokenize(strInput)\n",
    "    lsThreegrams = list(ngrams(tokens, nGram))\n",
    "    nMaxFuzz = 0\n",
    "    for tupGram in lsThreegrams:\n",
    "        strGram = ' '.join(tupGram)\n",
    "        nTempFuzz = objFuzzFunction(strInput, strCompare)\n",
    "        if nTempFuzz > nMaxFuzz:\n",
    "            nMaxFuzz = nTempFuzz\n",
    "            \n",
    "    return nMaxFuzz"
   ]
  },
  {
   "cell_type": "code",
   "execution_count": 7,
   "metadata": {},
   "outputs": [],
   "source": [
    "lsEchoCategories = ['no dilation', 'normal dilation', 'mild dilation', \n",
    "                    'min dilation', 'mod dilation', 'severe dilation',\n",
    "                    'normal function', 'no function', 'mild function', 'min function', \n",
    "                    'mod function', 'severe function', 'mcconnell sig', 'lv function']"
   ]
  },
  {
   "cell_type": "code",
   "execution_count": 8,
   "metadata": {},
   "outputs": [],
   "source": [
    "dfEchoFuzzy = pd.DataFrame(columns=['NARRATIVE_compiled']+lsEchoCategories,\n",
    "                           index=dfMerged.index)\n",
    "dfEchoFuzzy['NARRATIVE_compiled'] = dfMerged['NARRATIVE_compiled'].fillna('')"
   ]
  },
  {
   "cell_type": "code",
   "execution_count": 13,
   "metadata": {},
   "outputs": [],
   "source": [
    "for nEnc in dfEchoFuzzy.index:\n",
    "    strNarrative = dfEchoFuzzy.at[nEnc, 'NARRATIVE_compiled']\n",
    "    strNarrative = preproc_string(strNarrative)\n",
    "    for strCol in lsEchoCategories:            \n",
    "        dfEchoFuzzy.at[nEnc, strCol] = get_max_fuzz(strNarrative, 3, fuzz.ratio, strCol)"
   ]
  },
  {
   "cell_type": "code",
   "execution_count": 28,
   "metadata": {},
   "outputs": [
    {
     "data": {
      "text/plain": [
       "'· Unable to estimate right ventricular systolic pressure due to * insufficient tricuspid regurgitation Doppler signal.· LV function appears low normal to mildly decreased. Unable to quantify * LV EF despite use of contrast.· RV mildly dilated with intact basal function (TAPSE 1.9cm) and overally * low normal function.· Valves not well seen. No significant dysfunction by doppler.· The inferior vena cava was not visualized. * ***'"
      ]
     },
     "execution_count": 28,
     "metadata": {},
     "output_type": "execute_result"
    }
   ],
   "source": [
    "dfEchoFuzzy.max()['NARRATIVE_compiled']"
   ]
  },
  {
   "cell_type": "code",
   "execution_count": null,
   "metadata": {},
   "outputs": [],
   "source": [
    "dfEchoFuzzy['SevereSum'] = dfEchoFuzzy['']"
   ]
  }
 ],
 "metadata": {
  "kernelspec": {
   "display_name": "Python 3",
   "language": "python",
   "name": "python3"
  },
  "language_info": {
   "codemirror_mode": {
    "name": "ipython",
    "version": 3
   },
   "file_extension": ".py",
   "mimetype": "text/x-python",
   "name": "python",
   "nbconvert_exporter": "python",
   "pygments_lexer": "ipython3",
   "version": "3.7.5"
  }
 },
 "nbformat": 4,
 "nbformat_minor": 2
}
