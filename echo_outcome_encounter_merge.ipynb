{
 "cells": [
  {
   "cell_type": "code",
   "execution_count": 1,
   "metadata": {},
   "outputs": [],
   "source": [
    "import pandas as pd\n",
    "import numpy as np\n",
    "import os\n",
    "import matplotlib.pyplot as plt\n",
    "from sklearn.metrics import confusion_matrix\n",
    "from sklearn.utils.multiclass import unique_labels\n",
    "import seaborn as sns\n",
    "%matplotlib inline"
   ]
  },
  {
   "cell_type": "code",
   "execution_count": 2,
   "metadata": {},
   "outputs": [],
   "source": [
    "strDataDir = '/project/hackathon/hackers09/shared/data/'\n",
    "strEchoCsv = os.path.join(strDataDir, 'df_echo.csv')\n",
    "strRadCsv = os.path.join(strDataDir, 'df_radiology.csv')\n",
    "strOutcomeCsv = os.path.join(strDataDir, 'df_outcome.csv')\n",
    "strEncounterCsv = os.path.join(strDataDir, 'df_encounter.csv')"
   ]
  },
  {
   "cell_type": "code",
   "execution_count": 3,
   "metadata": {},
   "outputs": [],
   "source": [
    "dfEcho = pd.read_csv(strEchoCsv, encoding='ISO-8859-1')\n",
    "dfRad = pd.read_csv(strRadCsv, encoding='ISO-8859-1')\n",
    "dfOutcome = pd.read_csv(strOutcomeCsv, encoding='ISO-8859-1')\n",
    "dfEncounter = pd.read_csv(strEncounterCsv, encoding='ISO-8859-1')"
   ]
  },
  {
   "cell_type": "code",
   "execution_count": 4,
   "metadata": {},
   "outputs": [
    {
     "data": {
      "text/plain": [
       "(1642, 24)"
      ]
     },
     "execution_count": 4,
     "metadata": {},
     "output_type": "execute_result"
    }
   ],
   "source": [
    "dfEncounter.shape"
   ]
  },
  {
   "cell_type": "code",
   "execution_count": 5,
   "metadata": {},
   "outputs": [
    {
     "data": {
      "text/plain": [
       "(1128, 7)"
      ]
     },
     "execution_count": 5,
     "metadata": {},
     "output_type": "execute_result"
    }
   ],
   "source": [
    "dfOutcome.shape"
   ]
  },
  {
   "cell_type": "code",
   "execution_count": 6,
   "metadata": {},
   "outputs": [],
   "source": [
    "def expand_outcome(dfOutcome):\n",
    "    ## Outcome expansion\n",
    "     \n",
    "    \n",
    "    # Create columns for each unique outcome\n",
    "    lsExpandedOutcomeCols = []\n",
    "    lsOutcomeColsToRetain = dfOutcome.columns[2:].tolist()\n",
    "    lsUniqueOutcomes = dfOutcome['name_gen'].value_counts().index.tolist()\n",
    "    for strOutcome in lsUniqueOutcomes:\n",
    "        lsExpandedOutcomeCols += [strCol + '_' + strOutcome for strCol in lsOutcomeColsToRetain]\n",
    "\n",
    "    dfExpandedOutcome = pd.DataFrame(columns=lsExpandedOutcomeCols+['PATIENT_ID'])\n",
    "    dfExpandedOutcome['HSP_ENC'] = dfOutcome['HSP_ENC'].value_counts().index\n",
    "    dfExpandedOutcome = dfExpandedOutcome.set_index('HSP_ENC')\n",
    "\n",
    "    for nEnc in dfOutcome['HSP_ENC'].value_counts().index:\n",
    "        for nIdx in dfOutcome[dfOutcome['HSP_ENC']==nEnc].index:\n",
    "            lsTempCols = [strCol + '_' + dfOutcome.at[nIdx, 'name_gen'] for strCol in lsOutcomeColsToRetain]\n",
    "            lsTempCols.append('PATIENT_ID')\n",
    "            dfExpandedOutcome.loc[nEnc, lsTempCols] = dfOutcome.loc[nIdx, lsOutcomeColsToRetain+['PATIENT_ID']].values\n",
    "\n",
    "    # Create boolean column for order time < 48 hrs for any outcome\n",
    "    lsOrderTimeCols = [strCol for strCol in dfExpandedOutcome.columns if 'ORDER_TIME' in strCol]\n",
    "\n",
    "    dfExpandedOutcome['b48hr'] = np.zeros(dfExpandedOutcome.shape[0])\n",
    "    for nEnc in dfExpandedOutcome.index:\n",
    "        for nVal in dfExpandedOutcome.loc[nEnc, lsOrderTimeCols].values:\n",
    "            if nVal < 172800:\n",
    "                dfExpandedOutcome.at[nEnc, 'b48hr'] = 1\n",
    "\n",
    "    # Column for minimum order time from all outcomes\n",
    "    dfExpandedOutcome['MinOrderTime'] = dfExpandedOutcome.loc[:, lsOrderTimeCols].min(axis=1)\n",
    "    dfExpandedOutcome = dfExpandedOutcome.sort_values('MinOrderTime')\n",
    "    \n",
    "    return dfExpandedOutcome"
   ]
  },
  {
   "cell_type": "code",
   "execution_count": 7,
   "metadata": {},
   "outputs": [],
   "source": [
    "def compile_echo(dfEcho):    \n",
    "    # Keep only 12 hr echos\n",
    "    dfEcho = dfEcho[dfEcho['ORDER_INST_DIFFSEC'] < 12*60*60]\n",
    "\n",
    "    # Add all narratives together\n",
    "    lsUniqueEchoEnc = dfEcho['HSP_ENC'].value_counts().index.tolist()\n",
    "\n",
    "    lsEchoCols = dfEcho.columns.tolist()\n",
    "    lsEchoCols.remove('new_line')\n",
    "    lsEchoCols.remove('NARRATIVE')\n",
    "    dfCompiledEcho = pd.DataFrame(columns=lsEchoCols)\n",
    "    dfCompiledEcho['HSP_ENC'] = lsUniqueEchoEnc\n",
    "    dfCompiledEcho = dfCompiledEcho.set_index('HSP_ENC')\n",
    "    lsEchoCols.remove('HSP_ENC')\n",
    "\n",
    "    lsCompiledNarratives = []\n",
    "    for nEnc in lsUniqueEchoEnc:\n",
    "        lsUniqueEchoOrderId = dfEcho[dfEcho['HSP_ENC']==nEnc]['ORDER_PROC_ID'].value_counts().index.tolist()\n",
    "        #if len(lsUniqueEchoOrderId)>1:\n",
    "            #print(nEnc)\n",
    "        nFirstEchoOrderId = lsUniqueEchoOrderId[0] # Keep first one only\n",
    "        strCompiled = dfEcho[dfEcho['ORDER_PROC_ID']==nFirstEchoOrderId]['NARRATIVE'].sum()\n",
    "        dfCompiledEcho.loc[nEnc, lsEchoCols] = dfEcho[dfEcho['ORDER_PROC_ID']==nFirstEchoOrderId][lsEchoCols].iloc[0]\n",
    "        lsCompiledNarratives.append(strCompiled)\n",
    "    dfCompiledEcho['NARRATIVE_compiled'] = lsCompiledNarratives\n",
    "\n",
    "    # Keep only 12 hr echos\n",
    "    dfCompiledEcho = dfCompiledEcho[dfCompiledEcho['ORDER_INST_DIFFSEC'] < 12*60*60]\n",
    "    \n",
    "    return dfCompiledEcho"
   ]
  },
  {
   "cell_type": "code",
   "execution_count": 8,
   "metadata": {},
   "outputs": [],
   "source": [
    "def get_merge_dfs(dfOutcome, dfEcho, dfEncounter):\n",
    "    dfExpandedOutcome = expand_outcome(dfOutcome)\n",
    "    dfCompiledEcho = compile_echo(dfEcho)\n",
    "    dfEncounter = dfEncounter.set_index('HSP_ENC')\n",
    "    \n",
    "    dfMerged = dfEncounter.merge(dfExpandedOutcome, how='left', on='HSP_ENC')\n",
    "    dfMerged = dfMerged.merge(dfCompiledEcho, how='left', on='HSP_ENC')\n",
    "    \n",
    "    return dfMerged"
   ]
  },
  {
   "cell_type": "code",
   "execution_count": 9,
   "metadata": {},
   "outputs": [],
   "source": [
    "dfMerged = get_merge_dfs(dfOutcome, dfEcho, dfEncounter)"
   ]
  },
  {
   "cell_type": "code",
   "execution_count": 10,
   "metadata": {},
   "outputs": [],
   "source": [
    "dfMerged.to_csv('./enc_outcome_echo.csv')"
   ]
  },
  {
   "cell_type": "code",
   "execution_count": null,
   "metadata": {},
   "outputs": [],
   "source": []
  }
 ],
 "metadata": {
  "kernelspec": {
   "display_name": "Python 3",
   "language": "python",
   "name": "python3"
  },
  "language_info": {
   "codemirror_mode": {
    "name": "ipython",
    "version": 3
   },
   "file_extension": ".py",
   "mimetype": "text/x-python",
   "name": "python",
   "nbconvert_exporter": "python",
   "pygments_lexer": "ipython3",
   "version": "3.7.5"
  }
 },
 "nbformat": 4,
 "nbformat_minor": 2
}
