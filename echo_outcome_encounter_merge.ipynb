{
 "cells": [
  {
   "cell_type": "code",
   "execution_count": 2,
   "metadata": {},
   "outputs": [],
   "source": [
    "import pandas as pd\n",
    "import numpy as np\n",
    "import os\n",
    "import matplotlib.pyplot as plt\n",
    "from sklearn.metrics import confusion_matrix\n",
    "from sklearn.utils.multiclass import unique_labels\n",
    "import seaborn as sns\n",
    "%matplotlib inline"
   ]
  },
  {
   "cell_type": "code",
   "execution_count": 3,
   "metadata": {},
   "outputs": [],
   "source": [
    "strDataDir = '/project/hackathon/hackers09/shared/data/'\n",
    "strEchoCsv = os.path.join(strDataDir, 'df_echo.csv')\n",
    "strRadCsv = os.path.join(strDataDir, 'df_radiology.csv')\n",
    "strOutcomeCsv = os.path.join(strDataDir, 'df_outcome.csv')\n",
    "strEncounterCsv = os.path.join(strDataDir, 'df_encounter.csv')"
   ]
  },
  {
   "cell_type": "code",
   "execution_count": 4,
   "metadata": {},
   "outputs": [],
   "source": [
    "dfEcho = pd.read_csv(strEchoCsv, encoding='ISO-8859-1')\n",
    "dfRad = pd.read_csv(strRadCsv, encoding='ISO-8859-1')\n",
    "dfOutcome = pd.read_csv(strOutcomeCsv, encoding='ISO-8859-1')\n",
    "dfEncounter = pd.read_csv(strEncounterCsv, encoding='ISO-8859-1')"
   ]
  },
  {
   "cell_type": "code",
   "execution_count": 4,
   "metadata": {},
   "outputs": [
    {
     "data": {
      "text/plain": [
       "(1642, 24)"
      ]
     },
     "execution_count": 4,
     "metadata": {},
     "output_type": "execute_result"
    }
   ],
   "source": [
    "dfEncounter.shape"
   ]
  },
  {
   "cell_type": "code",
   "execution_count": 5,
   "metadata": {},
   "outputs": [
    {
     "data": {
      "text/plain": [
       "(1128, 7)"
      ]
     },
     "execution_count": 5,
     "metadata": {},
     "output_type": "execute_result"
    }
   ],
   "source": [
    "dfOutcome.shape"
   ]
  },
  {
   "cell_type": "code",
   "execution_count": 18,
   "metadata": {},
   "outputs": [
    {
     "data": {
      "text/plain": [
       "Index(['PATIENT_ID', 'HSP_ENC', 'NAME', 'ORDER_TIME_DIFFSEC',\n",
       "       'PROC_START_TIME_DIFFSEC', 'PROC_ENDING_TIME_DIFFSEC', 'name_gen'],\n",
       "      dtype='object')"
      ]
     },
     "execution_count": 18,
     "metadata": {},
     "output_type": "execute_result"
    }
   ],
   "source": [
    "dfOutcome.columns"
   ]
  },
  {
   "cell_type": "code",
   "execution_count": 18,
   "metadata": {},
   "outputs": [],
   "source": [
    "def expand_outcome(dfOutcome):\n",
    "    ## Outcome expansion   \n",
    "    \n",
    "    # Drop any outcomes after 48 hr\n",
    "    dfOutcome = dfOutcome[dfOutcome['ORDER_TIME_DIFFSEC']<48*60*60]\n",
    "    \n",
    "    # Create columns for each unique outcome\n",
    "    lsExpandedOutcomeCols = []\n",
    "    lsOutcomeColsToRetain = dfOutcome.columns[2:].tolist()\n",
    "    lsUniqueOutcomes = dfOutcome['name_gen'].value_counts().index.tolist()\n",
    "    for strOutcome in lsUniqueOutcomes:\n",
    "        lsExpandedOutcomeCols += [strCol + '_' + strOutcome for strCol in lsOutcomeColsToRetain]\n",
    "\n",
    "    dfExpandedOutcome = pd.DataFrame(columns=lsExpandedOutcomeCols+['PATIENT_ID'])\n",
    "    dfExpandedOutcome['HSP_ENC'] = dfOutcome['HSP_ENC'].value_counts().index\n",
    "    dfExpandedOutcome = dfExpandedOutcome.set_index('HSP_ENC')\n",
    "\n",
    "    for nEnc in dfOutcome['HSP_ENC'].value_counts().index:\n",
    "        for nIdx in dfOutcome[dfOutcome['HSP_ENC']==nEnc].index:\n",
    "            lsTempCols = [strCol + '_' + dfOutcome.at[nIdx, 'name_gen'] for strCol in lsOutcomeColsToRetain]\n",
    "            lsTempCols.append('PATIENT_ID')\n",
    "            dfExpandedOutcome.loc[nEnc, lsTempCols] = dfOutcome.loc[nIdx, lsOutcomeColsToRetain+['PATIENT_ID']].values\n",
    "\n",
    "    # Create boolean column for order time < 48 hrs for any outcome\n",
    "    lsOrderTimeCols = [strCol for strCol in dfExpandedOutcome.columns if 'ORDER_TIME' in strCol]\n",
    "\n",
    "    dfExpandedOutcome['b48hr'] = np.zeros(dfExpandedOutcome.shape[0])\n",
    "    for nEnc in dfExpandedOutcome.index:\n",
    "        for nVal in dfExpandedOutcome.loc[nEnc, lsOrderTimeCols].values:\n",
    "            if nVal < 172800:\n",
    "                dfExpandedOutcome.at[nEnc, 'b48hr'] = 1\n",
    "\n",
    "    # Column for minimum order time from all outcomes\n",
    "    dfExpandedOutcome['MinOrderTime'] = dfExpandedOutcome.loc[:, lsOrderTimeCols].min(axis=1)\n",
    "    dfExpandedOutcome = dfExpandedOutcome.sort_values('MinOrderTime')\n",
    "    \n",
    "    return dfExpandedOutcome"
   ]
  },
  {
   "cell_type": "code",
   "execution_count": 19,
   "metadata": {},
   "outputs": [],
   "source": [
    "def compile_echo(dfEcho):    \n",
    "    # Keep only 12 hr echos\n",
    "    dfEcho = dfEcho[dfEcho['ORDER_INST_DIFFSEC'] < 12*60*60]\n",
    "\n",
    "    # Add all narratives together\n",
    "    lsUniqueEchoEnc = dfEcho['HSP_ENC'].value_counts().index.tolist()\n",
    "\n",
    "    lsEchoCols = dfEcho.columns.tolist()\n",
    "    lsEchoCols.remove('new_line')\n",
    "    lsEchoCols.remove('NARRATIVE')\n",
    "    dfCompiledEcho = pd.DataFrame(columns=lsEchoCols)\n",
    "    dfCompiledEcho['HSP_ENC'] = lsUniqueEchoEnc\n",
    "    dfCompiledEcho = dfCompiledEcho.set_index('HSP_ENC')\n",
    "    lsEchoCols.remove('HSP_ENC')\n",
    "\n",
    "    lsCompiledNarratives = []\n",
    "    for nEnc in lsUniqueEchoEnc:\n",
    "        lsUniqueEchoOrderId = dfEcho[dfEcho['HSP_ENC']==nEnc]['ORDER_PROC_ID'].value_counts().index.tolist()\n",
    "        #if len(lsUniqueEchoOrderId)>1:\n",
    "            #print(nEnc)\n",
    "        nFirstEchoOrderId = lsUniqueEchoOrderId[0] # Keep first one only\n",
    "        \n",
    "        # Compile echo data\n",
    "        strCompiled = dfEcho[dfEcho['ORDER_PROC_ID']==nFirstEchoOrderId]['NARRATIVE'].str.cat(sep=' ')\n",
    "        dfCompiledEcho.loc[nEnc, lsEchoCols] = dfEcho[dfEcho['ORDER_PROC_ID']==nFirstEchoOrderId][lsEchoCols].iloc[0]\n",
    "        lsCompiledNarratives.append(strCompiled)\n",
    "    dfCompiledEcho['NARRATIVE_compiled'] = lsCompiledNarratives\n",
    "\n",
    "    # Keep only 12 hr echos\n",
    "    dfCompiledEcho = dfCompiledEcho[dfCompiledEcho['ORDER_INST_DIFFSEC'] < 12*60*60]\n",
    "    \n",
    "    return dfCompiledEcho"
   ]
  },
  {
   "cell_type": "code",
   "execution_count": 20,
   "metadata": {},
   "outputs": [],
   "source": [
    "def get_merge_dfs(dfOutcome, dfEcho, dfEncounter):\n",
    "    dfExpandedOutcome = expand_outcome(dfOutcome)\n",
    "    dfCompiledEcho = compile_echo(dfEcho)\n",
    "    dfEncounter = dfEncounter.set_index('HSP_ENC')\n",
    "    \n",
    "    dfMerged = dfEncounter.merge(dfExpandedOutcome, how='left', on='HSP_ENC')\n",
    "    dfMerged = dfMerged.merge(dfCompiledEcho, how='left', on='HSP_ENC')\n",
    "    \n",
    "    return dfMerged"
   ]
  },
  {
   "cell_type": "code",
   "execution_count": 21,
   "metadata": {},
   "outputs": [],
   "source": [
    "dfMerged = get_merge_dfs(dfOutcome, dfEcho, dfEncounter)"
   ]
  },
  {
   "cell_type": "code",
   "execution_count": 22,
   "metadata": {},
   "outputs": [],
   "source": [
    "dfMerged.to_csv('./enc_outcome_echo.csv')"
   ]
  },
  {
   "cell_type": "code",
   "execution_count": 17,
   "metadata": {},
   "outputs": [
    {
     "data": {
      "text/html": [
       "<div>\n",
       "<style scoped>\n",
       "    .dataframe tbody tr th:only-of-type {\n",
       "        vertical-align: middle;\n",
       "    }\n",
       "\n",
       "    .dataframe tbody tr th {\n",
       "        vertical-align: top;\n",
       "    }\n",
       "\n",
       "    .dataframe thead th {\n",
       "        text-align: right;\n",
       "    }\n",
       "</style>\n",
       "<table border=\"1\" class=\"dataframe\">\n",
       "  <thead>\n",
       "    <tr style=\"text-align: right;\">\n",
       "      <th></th>\n",
       "      <th>PATIENT_ID</th>\n",
       "      <th>HSP_ENC</th>\n",
       "      <th>NAME</th>\n",
       "      <th>ORDER_TIME_DIFFSEC</th>\n",
       "      <th>PROC_START_TIME_DIFFSEC</th>\n",
       "      <th>PROC_ENDING_TIME_DIFFSEC</th>\n",
       "      <th>name_gen</th>\n",
       "    </tr>\n",
       "  </thead>\n",
       "  <tbody>\n",
       "    <tr>\n",
       "      <th>111</th>\n",
       "      <td>504</td>\n",
       "      <td>306050512</td>\n",
       "      <td>IR THROMBOLYSIS</td>\n",
       "      <td>41940.0</td>\n",
       "      <td>42000.0</td>\n",
       "      <td>NaN</td>\n",
       "      <td>THROMBOLYSIS_PROC</td>\n",
       "    </tr>\n",
       "    <tr>\n",
       "      <th>113</th>\n",
       "      <td>504</td>\n",
       "      <td>306050512</td>\n",
       "      <td>IR THROMBOLYSIS</td>\n",
       "      <td>71220.0</td>\n",
       "      <td>97860.0</td>\n",
       "      <td>155400.0</td>\n",
       "      <td>THROMBOLYSIS_PROC</td>\n",
       "    </tr>\n",
       "    <tr>\n",
       "      <th>119</th>\n",
       "      <td>504</td>\n",
       "      <td>306050512</td>\n",
       "      <td>IR THROMBOLYSIS</td>\n",
       "      <td>56160.0</td>\n",
       "      <td>97860.0</td>\n",
       "      <td>NaN</td>\n",
       "      <td>THROMBOLYSIS_PROC</td>\n",
       "    </tr>\n",
       "    <tr>\n",
       "      <th>123</th>\n",
       "      <td>504</td>\n",
       "      <td>306050512</td>\n",
       "      <td>IR THROMBOLYSIS</td>\n",
       "      <td>42000.0</td>\n",
       "      <td>42000.0</td>\n",
       "      <td>69000.0</td>\n",
       "      <td>THROMBOLYSIS_PROC</td>\n",
       "    </tr>\n",
       "    <tr>\n",
       "      <th>974</th>\n",
       "      <td>504</td>\n",
       "      <td>306050512</td>\n",
       "      <td>ALTEPLASE INFUSION (RADIOLOGY)</td>\n",
       "      <td>48840.0</td>\n",
       "      <td>51060.0</td>\n",
       "      <td>NaN</td>\n",
       "      <td>THROMBOLYSIS</td>\n",
       "    </tr>\n",
       "  </tbody>\n",
       "</table>\n",
       "</div>"
      ],
      "text/plain": [
       "     PATIENT_ID    HSP_ENC                            NAME  \\\n",
       "111         504  306050512                 IR THROMBOLYSIS   \n",
       "113         504  306050512                 IR THROMBOLYSIS   \n",
       "119         504  306050512                 IR THROMBOLYSIS   \n",
       "123         504  306050512                 IR THROMBOLYSIS   \n",
       "974         504  306050512  ALTEPLASE INFUSION (RADIOLOGY)   \n",
       "\n",
       "     ORDER_TIME_DIFFSEC  PROC_START_TIME_DIFFSEC  PROC_ENDING_TIME_DIFFSEC  \\\n",
       "111             41940.0                  42000.0                       NaN   \n",
       "113             71220.0                  97860.0                  155400.0   \n",
       "119             56160.0                  97860.0                       NaN   \n",
       "123             42000.0                  42000.0                   69000.0   \n",
       "974             48840.0                  51060.0                       NaN   \n",
       "\n",
       "              name_gen  \n",
       "111  THROMBOLYSIS_PROC  \n",
       "113  THROMBOLYSIS_PROC  \n",
       "119  THROMBOLYSIS_PROC  \n",
       "123  THROMBOLYSIS_PROC  \n",
       "974       THROMBOLYSIS  "
      ]
     },
     "execution_count": 17,
     "metadata": {},
     "output_type": "execute_result"
    }
   ],
   "source": [
    "dfOutcome[dfOutcome['HSP_ENC']==306050512]"
   ]
  },
  {
   "cell_type": "code",
   "execution_count": null,
   "metadata": {},
   "outputs": [],
   "source": []
  }
 ],
 "metadata": {
  "kernelspec": {
   "display_name": "Python 3",
   "language": "python",
   "name": "python3"
  },
  "language_info": {
   "codemirror_mode": {
    "name": "ipython",
    "version": 3
   },
   "file_extension": ".py",
   "mimetype": "text/x-python",
   "name": "python",
   "nbconvert_exporter": "python",
   "pygments_lexer": "ipython3",
   "version": "3.7.5"
  }
 },
 "nbformat": 4,
 "nbformat_minor": 2
}
