{
 "cells": [
  {
   "cell_type": "code",
   "execution_count": 1,
   "metadata": {},
   "outputs": [],
   "source": [
    "import pandas as pd\n",
    "import numpy as np\n",
    "import os\n",
    "import matplotlib.pyplot as plt\n",
    "from sklearn.metrics import confusion_matrix\n",
    "from sklearn.utils.multiclass import unique_labels\n",
    "import seaborn as sns\n",
    "%matplotlib inline"
   ]
  },
  {
   "cell_type": "code",
   "execution_count": 2,
   "metadata": {},
   "outputs": [],
   "source": [
    "strDataDir = '/project/hackathon/hackers09/shared/data/'\n",
    "strEchoCsv = os.path.join(strDataDir, 'df_echo.csv')\n",
    "strRadCsv = os.path.join(strDataDir, 'df_radiology.csv')\n",
    "strOutcomeCsv = os.path.join(strDataDir, 'df_outcome.csv')\n",
    "strEncounterCsv = os.path.join(strDataDir, 'df_encounter.csv')"
   ]
  },
  {
   "cell_type": "code",
   "execution_count": 3,
   "metadata": {},
   "outputs": [],
   "source": [
    "dfEcho = pd.read_csv(strEchoCsv, encoding='ISO-8859-1')\n",
    "dfRad = pd.read_csv(strRadCsv, encoding='ISO-8859-1')\n",
    "dfOutcome = pd.read_csv(strOutcomeCsv, encoding='ISO-8859-1')\n",
    "dfEncounter = pd.read_csv(strEncounterCsv, encoding='ISO-8859-1')"
   ]
  },
  {
   "cell_type": "code",
   "execution_count": 4,
   "metadata": {},
   "outputs": [
    {
     "data": {
      "text/plain": [
       "(1642, 24)"
      ]
     },
     "execution_count": 4,
     "metadata": {},
     "output_type": "execute_result"
    }
   ],
   "source": [
    "dfEncounter.shape"
   ]
  },
  {
   "cell_type": "code",
   "execution_count": 5,
   "metadata": {},
   "outputs": [
    {
     "data": {
      "text/plain": [
       "(1128, 7)"
      ]
     },
     "execution_count": 5,
     "metadata": {},
     "output_type": "execute_result"
    }
   ],
   "source": [
    "dfOutcome.shape"
   ]
  },
  {
   "cell_type": "code",
   "execution_count": 9,
   "metadata": {},
   "outputs": [],
   "source": [
    "def expand_outcome(dfOutcome):\n",
    "    ## Outcome expansion\n",
    "     \n",
    "    \n",
    "    # Create columns for each unique outcome\n",
    "    lsExpandedOutcomeCols = []\n",
    "    lsOutcomeColsToRetain = dfOutcome.columns[2:].tolist()\n",
    "    lsUniqueOutcomes = dfOutcome['name_gen'].value_counts().index.tolist()\n",
    "    for strOutcome in lsUniqueOutcomes:\n",
    "        lsExpandedOutcomeCols += [strCol + '_' + strOutcome for strCol in lsOutcomeColsToRetain]\n",
    "\n",
    "    dfExpandedOutcome = pd.DataFrame(columns=lsExpandedOutcomeCols+['PATIENT_ID'])\n",
    "    dfExpandedOutcome['HSP_ENC'] = dfOutcome['HSP_ENC'].value_counts().index\n",
    "    dfExpandedOutcome = dfExpandedOutcome.set_index('HSP_ENC')\n",
    "\n",
    "    for nEnc in dfOutcome['HSP_ENC'].value_counts().index:\n",
    "        for nIdx in dfOutcome[dfOutcome['HSP_ENC']==nEnc].index:\n",
    "            lsTempCols = [strCol + '_' + dfOutcome.at[nIdx, 'name_gen'] for strCol in lsOutcomeColsToRetain]\n",
    "            lsTempCols.append('PATIENT_ID')\n",
    "            dfExpandedOutcome.loc[nEnc, lsTempCols] = dfOutcome.loc[nIdx, lsOutcomeColsToRetain+['PATIENT_ID']].values\n",
    "\n",
    "    # Create boolean column for order time < 48 hrs for any outcome\n",
    "    lsOrderTimeCols = [strCol for strCol in dfExpandedOutcome.columns if 'ORDER_TIME' in strCol]\n",
    "\n",
    "    dfExpandedOutcome['b48hr'] = np.zeros(dfExpandedOutcome.shape[0])\n",
    "    for nEnc in dfExpandedOutcome.index:\n",
    "        for nVal in dfExpandedOutcome.loc[nEnc, lsOrderTimeCols].values:\n",
    "            if nVal < 172800:\n",
    "                dfExpandedOutcome.at[nEnc, 'b48hr'] = 1\n",
    "\n",
    "    # Column for minimum order time from all outcomes\n",
    "    dfExpandedOutcome['MinOrderTime'] = dfExpandedOutcome.loc[:, lsOrderTimeCols].min(axis=1)\n",
    "    dfExpandedOutcome = dfExpandedOutcome.sort_values('MinOrderTime')\n",
    "    \n",
    "    return dfExpandedOutcome"
   ]
  },
  {
   "cell_type": "code",
   "execution_count": 10,
   "metadata": {},
   "outputs": [],
   "source": [
    "dfExpandedOutcome = expand_outcome(dfOutcome)"
   ]
  },
  {
   "cell_type": "code",
   "execution_count": 18,
   "metadata": {},
   "outputs": [
    {
     "data": {
      "text/html": [
       "<div>\n",
       "<style scoped>\n",
       "    .dataframe tbody tr th:only-of-type {\n",
       "        vertical-align: middle;\n",
       "    }\n",
       "\n",
       "    .dataframe tbody tr th {\n",
       "        vertical-align: top;\n",
       "    }\n",
       "\n",
       "    .dataframe thead th {\n",
       "        text-align: right;\n",
       "    }\n",
       "</style>\n",
       "<table border=\"1\" class=\"dataframe\">\n",
       "  <thead>\n",
       "    <tr style=\"text-align: right;\">\n",
       "      <th></th>\n",
       "      <th>NAME_VASOPRESSORS</th>\n",
       "      <th>ORDER_TIME_DIFFSEC_VASOPRESSORS</th>\n",
       "      <th>PROC_START_TIME_DIFFSEC_VASOPRESSORS</th>\n",
       "      <th>PROC_ENDING_TIME_DIFFSEC_VASOPRESSORS</th>\n",
       "      <th>name_gen_VASOPRESSORS</th>\n",
       "      <th>NAME_DEATH</th>\n",
       "      <th>ORDER_TIME_DIFFSEC_DEATH</th>\n",
       "      <th>PROC_START_TIME_DIFFSEC_DEATH</th>\n",
       "      <th>PROC_ENDING_TIME_DIFFSEC_DEATH</th>\n",
       "      <th>name_gen_DEATH</th>\n",
       "      <th>...</th>\n",
       "      <th>PROC_ENDING_TIME_DIFFSEC_THROMBOLYSIS</th>\n",
       "      <th>name_gen_THROMBOLYSIS</th>\n",
       "      <th>NAME_PPV</th>\n",
       "      <th>ORDER_TIME_DIFFSEC_PPV</th>\n",
       "      <th>PROC_START_TIME_DIFFSEC_PPV</th>\n",
       "      <th>PROC_ENDING_TIME_DIFFSEC_PPV</th>\n",
       "      <th>name_gen_PPV</th>\n",
       "      <th>PATIENT_ID</th>\n",
       "      <th>b48hr</th>\n",
       "      <th>MinOrderTime</th>\n",
       "    </tr>\n",
       "    <tr>\n",
       "      <th>HSP_ENC</th>\n",
       "      <th></th>\n",
       "      <th></th>\n",
       "      <th></th>\n",
       "      <th></th>\n",
       "      <th></th>\n",
       "      <th></th>\n",
       "      <th></th>\n",
       "      <th></th>\n",
       "      <th></th>\n",
       "      <th></th>\n",
       "      <th></th>\n",
       "      <th></th>\n",
       "      <th></th>\n",
       "      <th></th>\n",
       "      <th></th>\n",
       "      <th></th>\n",
       "      <th></th>\n",
       "      <th></th>\n",
       "      <th></th>\n",
       "      <th></th>\n",
       "      <th></th>\n",
       "    </tr>\n",
       "  </thead>\n",
       "  <tbody>\n",
       "    <tr>\n",
       "      <th>178271953</th>\n",
       "      <td>DOPAMINE 800 MG/250 ML (3,200 MCG/ML) IN 5 % D...</td>\n",
       "      <td>157680</td>\n",
       "      <td>158040</td>\n",
       "      <td>NaN</td>\n",
       "      <td>VASOPRESSORS</td>\n",
       "      <td>Expired</td>\n",
       "      <td>676740</td>\n",
       "      <td>NaN</td>\n",
       "      <td>NaN</td>\n",
       "      <td>DEATH</td>\n",
       "      <td>...</td>\n",
       "      <td>NaN</td>\n",
       "      <td>NaN</td>\n",
       "      <td>NaN</td>\n",
       "      <td>NaN</td>\n",
       "      <td>NaN</td>\n",
       "      <td>NaN</td>\n",
       "      <td>NaN</td>\n",
       "      <td>55</td>\n",
       "      <td>1.0</td>\n",
       "      <td>-480.0</td>\n",
       "    </tr>\n",
       "    <tr>\n",
       "      <th>195511480</th>\n",
       "      <td>NaN</td>\n",
       "      <td>NaN</td>\n",
       "      <td>NaN</td>\n",
       "      <td>NaN</td>\n",
       "      <td>NaN</td>\n",
       "      <td>NaN</td>\n",
       "      <td>NaN</td>\n",
       "      <td>NaN</td>\n",
       "      <td>NaN</td>\n",
       "      <td>NaN</td>\n",
       "      <td>...</td>\n",
       "      <td>NaN</td>\n",
       "      <td>NaN</td>\n",
       "      <td>IP RT BIPAP</td>\n",
       "      <td>180</td>\n",
       "      <td>240</td>\n",
       "      <td>2400</td>\n",
       "      <td>PPV</td>\n",
       "      <td>303</td>\n",
       "      <td>1.0</td>\n",
       "      <td>180.0</td>\n",
       "    </tr>\n",
       "    <tr>\n",
       "      <th>299237590</th>\n",
       "      <td>EPINEPHRINE 1 MG/ML INJECTION</td>\n",
       "      <td>180</td>\n",
       "      <td>NaN</td>\n",
       "      <td>NaN</td>\n",
       "      <td>VASOPRESSORS</td>\n",
       "      <td>NaN</td>\n",
       "      <td>NaN</td>\n",
       "      <td>NaN</td>\n",
       "      <td>NaN</td>\n",
       "      <td>NaN</td>\n",
       "      <td>...</td>\n",
       "      <td>NaN</td>\n",
       "      <td>NaN</td>\n",
       "      <td>NaN</td>\n",
       "      <td>NaN</td>\n",
       "      <td>NaN</td>\n",
       "      <td>NaN</td>\n",
       "      <td>NaN</td>\n",
       "      <td>1237</td>\n",
       "      <td>1.0</td>\n",
       "      <td>180.0</td>\n",
       "    </tr>\n",
       "    <tr>\n",
       "      <th>305160067</th>\n",
       "      <td>EPINEPHRINE HCL 4 MG/250 ML (16 MCG/ML) IN 5 %...</td>\n",
       "      <td>23400</td>\n",
       "      <td>23520</td>\n",
       "      <td>NaN</td>\n",
       "      <td>VASOPRESSORS</td>\n",
       "      <td>Expired</td>\n",
       "      <td>34440</td>\n",
       "      <td>NaN</td>\n",
       "      <td>NaN</td>\n",
       "      <td>DEATH</td>\n",
       "      <td>...</td>\n",
       "      <td>NaN</td>\n",
       "      <td>NaN</td>\n",
       "      <td>NaN</td>\n",
       "      <td>NaN</td>\n",
       "      <td>NaN</td>\n",
       "      <td>NaN</td>\n",
       "      <td>NaN</td>\n",
       "      <td>221</td>\n",
       "      <td>1.0</td>\n",
       "      <td>240.0</td>\n",
       "    </tr>\n",
       "    <tr>\n",
       "      <th>302730841</th>\n",
       "      <td>VASOPRESSIN STANDARD CONCENTRATION INFUSION</td>\n",
       "      <td>4560</td>\n",
       "      <td>4860</td>\n",
       "      <td>NaN</td>\n",
       "      <td>VASOPRESSORS</td>\n",
       "      <td>Expired</td>\n",
       "      <td>160200</td>\n",
       "      <td>NaN</td>\n",
       "      <td>NaN</td>\n",
       "      <td>DEATH</td>\n",
       "      <td>...</td>\n",
       "      <td>NaN</td>\n",
       "      <td>NaN</td>\n",
       "      <td>NaN</td>\n",
       "      <td>NaN</td>\n",
       "      <td>NaN</td>\n",
       "      <td>NaN</td>\n",
       "      <td>NaN</td>\n",
       "      <td>1202</td>\n",
       "      <td>1.0</td>\n",
       "      <td>540.0</td>\n",
       "    </tr>\n",
       "  </tbody>\n",
       "</table>\n",
       "<p>5 rows × 38 columns</p>\n",
       "</div>"
      ],
      "text/plain": [
       "                                           NAME_VASOPRESSORS  \\\n",
       "HSP_ENC                                                        \n",
       "178271953  DOPAMINE 800 MG/250 ML (3,200 MCG/ML) IN 5 % D...   \n",
       "195511480                                                NaN   \n",
       "299237590                      EPINEPHRINE 1 MG/ML INJECTION   \n",
       "305160067  EPINEPHRINE HCL 4 MG/250 ML (16 MCG/ML) IN 5 %...   \n",
       "302730841        VASOPRESSIN STANDARD CONCENTRATION INFUSION   \n",
       "\n",
       "          ORDER_TIME_DIFFSEC_VASOPRESSORS  \\\n",
       "HSP_ENC                                     \n",
       "178271953                          157680   \n",
       "195511480                             NaN   \n",
       "299237590                             180   \n",
       "305160067                           23400   \n",
       "302730841                            4560   \n",
       "\n",
       "          PROC_START_TIME_DIFFSEC_VASOPRESSORS  \\\n",
       "HSP_ENC                                          \n",
       "178271953                               158040   \n",
       "195511480                                  NaN   \n",
       "299237590                                  NaN   \n",
       "305160067                                23520   \n",
       "302730841                                 4860   \n",
       "\n",
       "          PROC_ENDING_TIME_DIFFSEC_VASOPRESSORS name_gen_VASOPRESSORS  \\\n",
       "HSP_ENC                                                                 \n",
       "178271953                                   NaN          VASOPRESSORS   \n",
       "195511480                                   NaN                   NaN   \n",
       "299237590                                   NaN          VASOPRESSORS   \n",
       "305160067                                   NaN          VASOPRESSORS   \n",
       "302730841                                   NaN          VASOPRESSORS   \n",
       "\n",
       "          NAME_DEATH ORDER_TIME_DIFFSEC_DEATH PROC_START_TIME_DIFFSEC_DEATH  \\\n",
       "HSP_ENC                                                                       \n",
       "178271953    Expired                   676740                           NaN   \n",
       "195511480        NaN                      NaN                           NaN   \n",
       "299237590        NaN                      NaN                           NaN   \n",
       "305160067    Expired                    34440                           NaN   \n",
       "302730841    Expired                   160200                           NaN   \n",
       "\n",
       "          PROC_ENDING_TIME_DIFFSEC_DEATH name_gen_DEATH  ...  \\\n",
       "HSP_ENC                                                  ...   \n",
       "178271953                            NaN          DEATH  ...   \n",
       "195511480                            NaN            NaN  ...   \n",
       "299237590                            NaN            NaN  ...   \n",
       "305160067                            NaN          DEATH  ...   \n",
       "302730841                            NaN          DEATH  ...   \n",
       "\n",
       "          PROC_ENDING_TIME_DIFFSEC_THROMBOLYSIS name_gen_THROMBOLYSIS  \\\n",
       "HSP_ENC                                                                 \n",
       "178271953                                   NaN                   NaN   \n",
       "195511480                                   NaN                   NaN   \n",
       "299237590                                   NaN                   NaN   \n",
       "305160067                                   NaN                   NaN   \n",
       "302730841                                   NaN                   NaN   \n",
       "\n",
       "              NAME_PPV ORDER_TIME_DIFFSEC_PPV PROC_START_TIME_DIFFSEC_PPV  \\\n",
       "HSP_ENC                                                                     \n",
       "178271953          NaN                    NaN                         NaN   \n",
       "195511480  IP RT BIPAP                    180                         240   \n",
       "299237590          NaN                    NaN                         NaN   \n",
       "305160067          NaN                    NaN                         NaN   \n",
       "302730841          NaN                    NaN                         NaN   \n",
       "\n",
       "          PROC_ENDING_TIME_DIFFSEC_PPV name_gen_PPV PATIENT_ID b48hr  \\\n",
       "HSP_ENC                                                                \n",
       "178271953                          NaN          NaN         55   1.0   \n",
       "195511480                         2400          PPV        303   1.0   \n",
       "299237590                          NaN          NaN       1237   1.0   \n",
       "305160067                          NaN          NaN        221   1.0   \n",
       "302730841                          NaN          NaN       1202   1.0   \n",
       "\n",
       "          MinOrderTime  \n",
       "HSP_ENC                 \n",
       "178271953       -480.0  \n",
       "195511480        180.0  \n",
       "299237590        180.0  \n",
       "305160067        240.0  \n",
       "302730841        540.0  \n",
       "\n",
       "[5 rows x 38 columns]"
      ]
     },
     "execution_count": 18,
     "metadata": {},
     "output_type": "execute_result"
    }
   ],
   "source": [
    "dfExpandedOutcome.head()"
   ]
  },
  {
   "cell_type": "code",
   "execution_count": 20,
   "metadata": {},
   "outputs": [
    {
     "data": {
      "text/plain": [
       "Index(['PATIENT_ID', 'HSP_ENC', 'ORDER_PROC_ID', 'NAME', 'ORDER_INST_DIFFSEC',\n",
       "       'PROC_START_TIME_DIFFSEC', 'new_line', 'RESULT_TIME_DIFFSEC',\n",
       "       'ECHO_TYPE', 'NARRATIVE'],\n",
       "      dtype='object')"
      ]
     },
     "execution_count": 20,
     "metadata": {},
     "output_type": "execute_result"
    }
   ],
   "source": [
    "dfEcho.columns"
   ]
  },
  {
   "cell_type": "code",
   "execution_count": 29,
   "metadata": {},
   "outputs": [
    {
     "data": {
      "text/plain": [
       "291302410    16\n",
       "289100082    16\n",
       "339472793    16\n",
       "290659621    16\n",
       "292323530    16\n",
       "             ..\n",
       "342923419     4\n",
       "371951252     4\n",
       "355830397     4\n",
       "358692685     3\n",
       "354936942     3\n",
       "Name: ORDER_PROC_ID, Length: 436, dtype: int64"
      ]
     },
     "execution_count": 29,
     "metadata": {},
     "output_type": "execute_result"
    }
   ],
   "source": [
    "dfEcho[dfEcho['ORDER_INST_DIFFSEC'] < 12*60*60]['ORDER_PROC_ID'].value_counts()"
   ]
  },
  {
   "cell_type": "code",
   "execution_count": 24,
   "metadata": {},
   "outputs": [
    {
     "data": {
      "text/plain": [
       "(5616, 10)"
      ]
     },
     "execution_count": 24,
     "metadata": {},
     "output_type": "execute_result"
    }
   ],
   "source": [
    "dfEcho[dfEcho['ORDER_INST_DIFFSEC'] < 12*60*60]"
   ]
  },
  {
   "cell_type": "code",
   "execution_count": 11,
   "metadata": {},
   "outputs": [],
   "source": [
    "def expand_echo(dfEcho):\n",
    "    # Keep only 12 hr echos\n",
    "    dfEcho = dfEcho[dfEcho['ORDER_INST_DIFFSEC'] < 12*60*60]\n",
    "    \n",
    "    ## Echo expansion\n",
    "    # Create columns for unique lines in echo narrative\n",
    "    lsExpandedEchoCols = []\n",
    "    for strNewLine in dfEcho['new_line'].value_counts().index.astype(str):\n",
    "        lsExpandedEchoCols += [strCol + '_' + strNewLine for strCol in dfEcho.columns[3:]]\n",
    "        \n",
    "    lsUniqueEchoCols = dfEcho.columns[3:].tolist()\n",
    "\n",
    "    dfExpandedEcho = pd.DataFrame(columns=['PATIENT_ID']+lsExpandedEchoCols)\n",
    "    dfExpandedEcho['HSP_ENC'] = dfEcho['HSP_ENC'].value_counts().index\n",
    "    dfExpandedEcho = dfExpandedEcho.set_index('HSP_ENC')\n",
    "\n",
    "    for nEnc in dfEcho['HSP_ENC'].value_counts().index:\n",
    "        for nIdx in dfEcho[dfEcho['HSP_ENC']==nEnc].index:\n",
    "            lsTempCols = [strCol + '_' + dfEcho.at[nIdx, 'new_line'].astype(str) for strCol in lsUniqueEchoCols]\n",
    "            lsTempCols = ['PATIENT_ID'] + lsTempCols\n",
    "            dfExpandedEcho.loc[nEnc, lsTempCols] = dfEcho.loc[nIdx, ['PATIENT_ID']+lsUniqueEchoCols].values\n",
    "    \n",
    "    return dfExpandedEcho"
   ]
  },
  {
   "cell_type": "code",
   "execution_count": 12,
   "metadata": {},
   "outputs": [],
   "source": [
    "dfExpandedEcho = expand_echo(dfEcho)"
   ]
  },
  {
   "cell_type": "code",
   "execution_count": 15,
   "metadata": {},
   "outputs": [],
   "source": [
    "dfEncounter = dfEncounter.set_index('HSP_ENC')"
   ]
  },
  {
   "cell_type": "code",
   "execution_count": null,
   "metadata": {},
   "outputs": [],
   "source": [
    "dfMerged = dfEncounter.merge(dfExpandedEcho, how='left', )"
   ]
  }
 ],
 "metadata": {
  "kernelspec": {
   "display_name": "Python 3",
   "language": "python",
   "name": "python3"
  },
  "language_info": {
   "codemirror_mode": {
    "name": "ipython",
    "version": 3
   },
   "file_extension": ".py",
   "mimetype": "text/x-python",
   "name": "python",
   "nbconvert_exporter": "python",
   "pygments_lexer": "ipython3",
   "version": "3.7.5"
  }
 },
 "nbformat": 4,
 "nbformat_minor": 2
}
