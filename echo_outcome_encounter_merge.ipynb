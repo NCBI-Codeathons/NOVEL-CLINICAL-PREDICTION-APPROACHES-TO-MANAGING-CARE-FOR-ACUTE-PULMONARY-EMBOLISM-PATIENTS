{
 "cells": [
  {
   "cell_type": "code",
   "execution_count": 2,
   "metadata": {},
   "outputs": [],
   "source": [
    "import pandas as pd\n",
    "import numpy as np\n",
    "import os\n",
    "import matplotlib.pyplot as plt\n",
    "from sklearn.metrics import confusion_matrix\n",
    "from sklearn.utils.multiclass import unique_labels\n",
    "import seaborn as sns\n",
    "%matplotlib inline"
   ]
  },
  {
   "cell_type": "code",
   "execution_count": 3,
   "metadata": {},
   "outputs": [],
   "source": [
    "strDataDir = '/project/hackathon/hackers09/shared/data/'\n",
    "strEchoCsv = os.path.join(strDataDir, 'df_echo.csv')\n",
    "strRadCsv = os.path.join(strDataDir, 'df_radiology.csv')\n",
    "strOutcomeCsv = os.path.join(strDataDir, 'df_outcome.csv')\n",
    "strEncounterCsv = os.path.join(strDataDir, 'df_encounter.csv')"
   ]
  },
  {
   "cell_type": "code",
   "execution_count": 4,
   "metadata": {},
   "outputs": [],
   "source": [
    "dfEcho = pd.read_csv(strEchoCsv, encoding='ISO-8859-1')\n",
    "dfRad = pd.read_csv(strRadCsv, encoding='ISO-8859-1')\n",
    "dfOutcome = pd.read_csv(strOutcomeCsv, encoding='ISO-8859-1')\n",
    "dfEncounter = pd.read_csv(strEncounterCsv, encoding='ISO-8859-1')"
   ]
  },
  {
   "cell_type": "code",
   "execution_count": 4,
   "metadata": {},
   "outputs": [
    {
     "data": {
      "text/plain": [
       "(1642, 24)"
      ]
     },
     "execution_count": 4,
     "metadata": {},
     "output_type": "execute_result"
    }
   ],
   "source": [
    "dfEncounter.shape"
   ]
  },
  {
   "cell_type": "code",
   "execution_count": 5,
   "metadata": {},
   "outputs": [
    {
     "data": {
      "text/plain": [
       "(1128, 7)"
      ]
     },
     "execution_count": 5,
     "metadata": {},
     "output_type": "execute_result"
    }
   ],
   "source": [
    "dfOutcome.shape"
   ]
  },
  {
   "cell_type": "code",
   "execution_count": 18,
   "metadata": {},
   "outputs": [
    {
     "data": {
      "text/plain": [
       "Index(['PATIENT_ID', 'HSP_ENC', 'NAME', 'ORDER_TIME_DIFFSEC',\n",
       "       'PROC_START_TIME_DIFFSEC', 'PROC_ENDING_TIME_DIFFSEC', 'name_gen'],\n",
       "      dtype='object')"
      ]
     },
     "execution_count": 18,
     "metadata": {},
     "output_type": "execute_result"
    }
   ],
   "source": [
    "dfOutcome.columns"
   ]
  },
  {
   "cell_type": "code",
   "execution_count": 25,
   "metadata": {},
   "outputs": [],
   "source": [
    "def expand_outcome(dfOutcome):\n",
    "    ## Outcome expansion   \n",
    "    \n",
    "    # Drop any outcomes after 48 hr\n",
    "    dfOutcome = dfOutcome[dfOutcome['ORDER_TIME_DIFFSEC']<48*60*60]\n",
    "    \n",
    "    # Create columns for each unique outcome\n",
    "    lsExpandedOutcomeCols = []\n",
    "    lsOutcomeColsToRetain = dfOutcome.columns[2:].tolist()\n",
    "    lsUniqueOutcomes = dfOutcome['name_gen'].value_counts().index.tolist()\n",
    "    for strOutcome in lsUniqueOutcomes:\n",
    "        lsExpandedOutcomeCols += [strCol + '_' + strOutcome for strCol in lsOutcomeColsToRetain]\n",
    "\n",
    "    dfExpandedOutcome = pd.DataFrame(columns=lsExpandedOutcomeCols+['PATIENT_ID'])\n",
    "    dfExpandedOutcome['HSP_ENC'] = dfOutcome['HSP_ENC'].value_counts().index\n",
    "    dfExpandedOutcome = dfExpandedOutcome.set_index('HSP_ENC')\n",
    "\n",
    "    for nEnc in dfOutcome['HSP_ENC'].value_counts().index:\n",
    "        for nIdx in dfOutcome[dfOutcome['HSP_ENC']==nEnc].index:\n",
    "            lsTempCols = [strCol + '_' + dfOutcome.at[nIdx, 'name_gen'] for strCol in lsOutcomeColsToRetain]\n",
    "            lsTempCols.append('PATIENT_ID')\n",
    "            dfExpandedOutcome.loc[nEnc, lsTempCols] = dfOutcome.loc[nIdx, lsOutcomeColsToRetain+['PATIENT_ID']].values\n",
    "\n",
    "    # Create boolean column for order time < 48 hrs for any outcome\n",
    "    lsOrderTimeCols = [strCol for strCol in dfExpandedOutcome.columns if 'ORDER_TIME' in strCol]\n",
    "\n",
    "    dfExpandedOutcome['b48hr'] = np.zeros(dfExpandedOutcome.shape[0])\n",
    "    for nEnc in dfExpandedOutcome.index:\n",
    "        for nVal in dfExpandedOutcome.loc[nEnc, lsOrderTimeCols].values:\n",
    "            if nVal < 172800:\n",
    "                dfExpandedOutcome.at[nEnc, 'b48hr'] = 1\n",
    "\n",
    "    # Column for minimum order time from all outcomes\n",
    "    dfExpandedOutcome['MinOrderTime'] = dfExpandedOutcome.loc[:, lsOrderTimeCols].min(axis=1)\n",
    "    dfExpandedOutcome = dfExpandedOutcome.sort_values('MinOrderTime')\n",
    "    \n",
    "    return dfExpandedOutcome"
   ]
  },
  {
   "cell_type": "code",
   "execution_count": 6,
   "metadata": {},
   "outputs": [
    {
     "data": {
      "text/html": [
       "<div>\n",
       "<style scoped>\n",
       "    .dataframe tbody tr th:only-of-type {\n",
       "        vertical-align: middle;\n",
       "    }\n",
       "\n",
       "    .dataframe tbody tr th {\n",
       "        vertical-align: top;\n",
       "    }\n",
       "\n",
       "    .dataframe thead th {\n",
       "        text-align: right;\n",
       "    }\n",
       "</style>\n",
       "<table border=\"1\" class=\"dataframe\">\n",
       "  <thead>\n",
       "    <tr style=\"text-align: right;\">\n",
       "      <th></th>\n",
       "      <th>PATIENT_ID</th>\n",
       "      <th>HSP_ENC</th>\n",
       "      <th>ORDER_PROC_ID</th>\n",
       "      <th>NAME</th>\n",
       "      <th>ORDER_INST_DIFFSEC</th>\n",
       "      <th>PROC_START_TIME_DIFFSEC</th>\n",
       "      <th>new_line</th>\n",
       "      <th>RESULT_TIME_DIFFSEC</th>\n",
       "      <th>ECHO_TYPE</th>\n",
       "      <th>NARRATIVE</th>\n",
       "    </tr>\n",
       "  </thead>\n",
       "  <tbody>\n",
       "    <tr>\n",
       "      <th>0</th>\n",
       "      <td>1193</td>\n",
       "      <td>182324191</td>\n",
       "      <td>287214096</td>\n",
       "      <td>CV ECHO STUDY</td>\n",
       "      <td>16200</td>\n",
       "      <td>37260</td>\n",
       "      <td>1</td>\n",
       "      <td>81720</td>\n",
       "      <td>echo_old</td>\n",
       "      <td>STUDY DATE: 10/06/2014</td>\n",
       "    </tr>\n",
       "    <tr>\n",
       "      <th>1</th>\n",
       "      <td>1193</td>\n",
       "      <td>182324191</td>\n",
       "      <td>287214096</td>\n",
       "      <td>CV ECHO STUDY</td>\n",
       "      <td>16200</td>\n",
       "      <td>37260</td>\n",
       "      <td>2</td>\n",
       "      <td>81720</td>\n",
       "      <td>echo_old</td>\n",
       "      <td>REASON FOR STUDY: PULMONARY EMBOLISM</td>\n",
       "    </tr>\n",
       "    <tr>\n",
       "      <th>2</th>\n",
       "      <td>1193</td>\n",
       "      <td>182324191</td>\n",
       "      <td>287214096</td>\n",
       "      <td>CV ECHO STUDY</td>\n",
       "      <td>16200</td>\n",
       "      <td>37260</td>\n",
       "      <td>3</td>\n",
       "      <td>81720</td>\n",
       "      <td>echo_old</td>\n",
       "      <td>ORDERING PHYSICIAN: LANCE TERADA,</td>\n",
       "    </tr>\n",
       "    <tr>\n",
       "      <th>3</th>\n",
       "      <td>1193</td>\n",
       "      <td>182324191</td>\n",
       "      <td>287214096</td>\n",
       "      <td>CV ECHO STUDY</td>\n",
       "      <td>16200</td>\n",
       "      <td>37260</td>\n",
       "      <td>4</td>\n",
       "      <td>81720</td>\n",
       "      <td>echo_old</td>\n",
       "      <td>PERFORMED BY: * *** * InterpretingPhysician:KA...</td>\n",
       "    </tr>\n",
       "    <tr>\n",
       "      <th>4</th>\n",
       "      <td>1193</td>\n",
       "      <td>182324191</td>\n",
       "      <td>287214096</td>\n",
       "      <td>CV ECHO STUDY</td>\n",
       "      <td>16200</td>\n",
       "      <td>37260</td>\n",
       "      <td>5</td>\n",
       "      <td>81720</td>\n",
       "      <td>echo_old</td>\n",
       "      <td>INTERPRETATION SUMMARY * A complete two-dimens...</td>\n",
       "    </tr>\n",
       "  </tbody>\n",
       "</table>\n",
       "</div>"
      ],
      "text/plain": [
       "   PATIENT_ID    HSP_ENC  ORDER_PROC_ID           NAME  ORDER_INST_DIFFSEC  \\\n",
       "0        1193  182324191      287214096  CV ECHO STUDY               16200   \n",
       "1        1193  182324191      287214096  CV ECHO STUDY               16200   \n",
       "2        1193  182324191      287214096  CV ECHO STUDY               16200   \n",
       "3        1193  182324191      287214096  CV ECHO STUDY               16200   \n",
       "4        1193  182324191      287214096  CV ECHO STUDY               16200   \n",
       "\n",
       "   PROC_START_TIME_DIFFSEC  new_line  RESULT_TIME_DIFFSEC ECHO_TYPE  \\\n",
       "0                    37260         1                81720  echo_old   \n",
       "1                    37260         2                81720  echo_old   \n",
       "2                    37260         3                81720  echo_old   \n",
       "3                    37260         4                81720  echo_old   \n",
       "4                    37260         5                81720  echo_old   \n",
       "\n",
       "                                           NARRATIVE  \n",
       "0                             STUDY DATE: 10/06/2014  \n",
       "1               REASON FOR STUDY: PULMONARY EMBOLISM  \n",
       "2                  ORDERING PHYSICIAN: LANCE TERADA,  \n",
       "3  PERFORMED BY: * *** * InterpretingPhysician:KA...  \n",
       "4  INTERPRETATION SUMMARY * A complete two-dimens...  "
      ]
     },
     "execution_count": 6,
     "metadata": {},
     "output_type": "execute_result"
    }
   ],
   "source": [
    "dfEcho.head()"
   ]
  },
  {
   "cell_type": "code",
   "execution_count": 7,
   "metadata": {},
   "outputs": [
    {
     "data": {
      "text/plain": [
       "'STUDY DATE: 10/06/2014REASON FOR STUDY: PULMONARY EMBOLISMORDERING PHYSICIAN: LANCE TERADA,PERFORMED BY: * *** * InterpretingPhysician:KATY LONERGAN,MD electronically signed on 10-06-2014 18:21:39 * ***INTERPRETATION SUMMARY * A complete two-dimensional transthoracic echocardiogram was performed * (2D, M-mode, Doppler and color flow Doppler). Normal LV size and * systolic function. LV EF 55% (biplane). Mildly dilated right ventricle * with mildly reduced systolic function. Flattened interventricular septum * during systole suggests RV pressure overload. Normal atrial size. No * significant valve dysfunction. Peak TR jet velocity estimates RVSP 33 * mmhg plus CVP. Normal IVC size/collapse suggests normal CVP. trace * pericardial effusion. Compared to prior exam 10/3/2014, estimated LV EF * is higher. RV appears larger. RV hypokinesis and septal flattening more * evident. * ***MMODE/2D MEASUREMENTS & CALCULATIONS * RVDd: 4.2 cm             LVIDd: 5.0 cm            IVS/LVPW: 0.9 * IVSd: 0.9 cm             LVIDs: 4.0 cm            FS: 21.2 % * LVPWd: 1.0 cm            EF(Teich): 42.8 % * *** * EDV(cubed): 127.7 ml     LV mass(C)d: 171.0 grams SV(Teich): 51.4 ml * ESV(cubed): 62.6 ml      LV mass(C)dI: 88.9 grams/m\\\\S\\\\2 SI(Teich): 26.7 ml/m\\\\S\\\\2 * EF(cubed): 51.0 %                                 SV(cubed): 65.1 ml * SI(cubed): 33.8 ml/m\\\\S\\\\2 * *** * Ao root diam: 3.1 cm     LA/Ao: 1.1               EDV(MOD-sp4): 59.7 ml * LA dimension: 3.4 cm                              EDV(sp4-el): 56.5 ml * ESV(MOD-sp4): 20.7 ml * ESV(sp4-el): 18.3 ml * EF(MOD-sp4): 65.3 % * EF(sp4-el): 67.6 % * *** * LVAd ap2: 22.2 cm\\\\S\\\\2 LVLd %diff: -7.0 %      SV(MOD-sp4): 39.0 ml * LVLd ap2: 7.4 cm         EDV(MOD-bp): 60.2 ml     SI(MOD-sp4): 20.3 ml/m\\\\S\\\\2 * EDV(MOD-sp2): 57.3 ml    LVLs %diff: -8.0 % * EDV(sp2-el): 57.1 ml     ESV(MOD-bp): 26.7 ml * LVLs ap2: 6.4 cm         EF(MOD-bp): 55.6 % * ESV(MOD-sp2): 33.7 ml * ESV(sp2-el): 32.6 ml * EF(MOD-sp2): 41.2 % * EF(sp2-el): 42.9 % * *** * SV(MOD-sp2): 23.6 ml     SV(MOD-bp): 33.4 ml      SI(sp4-el): 19.8 ml/m\\\\S\\\\2 * SI(MOD-sp2): 12.3 ml/m\\\\S\\\\2 SI(MOD-bp): 17.4 ml/m\\\\S\\\\2 * *** * SV(sp2-el): 24.5 ml * SI(sp2-el): 12.7 ml/m\\\\S\\\\2 * ***DOPPLER MEASUREMNTS & CALCULATIONS * MV E point: 95.3 cm/sec  MV dec time: 0.3 sec     Ao max PG: 9.2 mmHg * MV A point: 112.5 cm/sec * MV E/A: 0.8 * *** * PA acc time: 0.1 sec     TR Max vel: 283.7 cm/sec * ***LEFT VENTRICLE * The left ventricle is normal in size. There is normal left ventricular * wall thickness. The transmitral spectral Doppler flow pattern is * suggestive of impaired LV relaxation. Flattened septum is consistent * with RV pressure overload. * ***RIGHT VENTRICLE * The right ventricle is mildly dilated. The right ventricular systolic * function is mildly reduced. * ***ATRIA * The left atrial size is normal. Right atrial size is normal. * ***MITRAL VALVE * The mitral valve is normal in structure and function. There is no mitral * regurgitation noted. * ***TRICUSPID VALVE * The tricuspid valve is not well visualized, but is grossly normal. There * is trace tricuspid regurgitation. * ***AORTIC VALVE * The aortic valve leaflets are thickened, yet open well. No aortic * regurgitation is present. * ***GREAT VESSELS * The aortic root is normal size. * ***PERICARDIUM/PLEURAL * Trace pericardial effusion. * ***'"
      ]
     },
     "execution_count": 7,
     "metadata": {},
     "output_type": "execute_result"
    }
   ],
   "source": [
    "dfEcho[dfEcho['ORDER_PROC_ID']==287214096]['NARRATIVE'].sum()"
   ]
  },
  {
   "cell_type": "code",
   "execution_count": 26,
   "metadata": {},
   "outputs": [],
   "source": [
    "def compile_echo(dfEcho):    \n",
    "    # Keep only 12 hr echos\n",
    "    dfEcho = dfEcho[dfEcho['ORDER_INST_DIFFSEC'] < 12*60*60]\n",
    "\n",
    "    # Add all narratives together\n",
    "    lsUniqueEchoEnc = dfEcho['HSP_ENC'].value_counts().index.tolist()\n",
    "\n",
    "    lsEchoCols = dfEcho.columns.tolist()\n",
    "    lsEchoCols.remove('new_line')\n",
    "    lsEchoCols.remove('NARRATIVE')\n",
    "    dfCompiledEcho = pd.DataFrame(columns=lsEchoCols)\n",
    "    dfCompiledEcho['HSP_ENC'] = lsUniqueEchoEnc\n",
    "    dfCompiledEcho = dfCompiledEcho.set_index('HSP_ENC')\n",
    "    lsEchoCols.remove('HSP_ENC')\n",
    "\n",
    "    lsCompiledNarratives = []\n",
    "    for nEnc in lsUniqueEchoEnc:\n",
    "        lsUniqueEchoOrderId = dfEcho[dfEcho['HSP_ENC']==nEnc]['ORDER_PROC_ID'].value_counts().index.tolist()\n",
    "        #if len(lsUniqueEchoOrderId)>1:\n",
    "            #print(nEnc)\n",
    "        nFirstEchoOrderId = lsUniqueEchoOrderId[0] # Keep first one only\n",
    "        \n",
    "        # Compile echo data\n",
    "        strCompiled = dfEcho[dfEcho['ORDER_PROC_ID']==nFirstEchoOrderId]['NARRATIVE'].sum()\n",
    "        dfCompiledEcho.loc[nEnc, lsEchoCols] = dfEcho[dfEcho['ORDER_PROC_ID']==nFirstEchoOrderId][lsEchoCols].iloc[0]\n",
    "        lsCompiledNarratives.append(strCompiled)\n",
    "    dfCompiledEcho['NARRATIVE_compiled'] = lsCompiledNarratives\n",
    "\n",
    "    # Keep only 12 hr echos\n",
    "    dfCompiledEcho = dfCompiledEcho[dfCompiledEcho['ORDER_INST_DIFFSEC'] < 12*60*60]\n",
    "    \n",
    "    return dfCompiledEcho"
   ]
  },
  {
   "cell_type": "code",
   "execution_count": 27,
   "metadata": {},
   "outputs": [],
   "source": [
    "def get_merge_dfs(dfOutcome, dfEcho, dfEncounter):\n",
    "    dfExpandedOutcome = expand_outcome(dfOutcome)\n",
    "    dfCompiledEcho = compile_echo(dfEcho)\n",
    "    dfEncounter = dfEncounter.set_index('HSP_ENC')\n",
    "    \n",
    "    dfMerged = dfEncounter.merge(dfExpandedOutcome, how='left', on='HSP_ENC')\n",
    "    dfMerged = dfMerged.merge(dfCompiledEcho, how='left', on='HSP_ENC')\n",
    "    \n",
    "    return dfMerged"
   ]
  },
  {
   "cell_type": "code",
   "execution_count": 28,
   "metadata": {},
   "outputs": [],
   "source": [
    "dfMerged = get_merge_dfs(dfOutcome, dfEcho, dfEncounter)"
   ]
  },
  {
   "cell_type": "code",
   "execution_count": 16,
   "metadata": {},
   "outputs": [],
   "source": [
    "dfMerged.to_csv('./enc_outcome_echo.csv')"
   ]
  },
  {
   "cell_type": "code",
   "execution_count": 30,
   "metadata": {},
   "outputs": [
    {
     "data": {
      "text/html": [
       "<div>\n",
       "<style scoped>\n",
       "    .dataframe tbody tr th:only-of-type {\n",
       "        vertical-align: middle;\n",
       "    }\n",
       "\n",
       "    .dataframe tbody tr th {\n",
       "        vertical-align: top;\n",
       "    }\n",
       "\n",
       "    .dataframe thead th {\n",
       "        text-align: right;\n",
       "    }\n",
       "</style>\n",
       "<table border=\"1\" class=\"dataframe\">\n",
       "  <thead>\n",
       "    <tr style=\"text-align: right;\">\n",
       "      <th></th>\n",
       "      <th>PATIENT_ID</th>\n",
       "      <th>HSP_ENC</th>\n",
       "      <th>NAME</th>\n",
       "      <th>ORDER_TIME_DIFFSEC</th>\n",
       "      <th>PROC_START_TIME_DIFFSEC</th>\n",
       "      <th>PROC_ENDING_TIME_DIFFSEC</th>\n",
       "      <th>name_gen</th>\n",
       "    </tr>\n",
       "  </thead>\n",
       "  <tbody>\n",
       "    <tr>\n",
       "      <th>111</th>\n",
       "      <td>504</td>\n",
       "      <td>306050512</td>\n",
       "      <td>IR THROMBOLYSIS</td>\n",
       "      <td>41940.0</td>\n",
       "      <td>42000.0</td>\n",
       "      <td>NaN</td>\n",
       "      <td>THROMBOLYSIS_PROC</td>\n",
       "    </tr>\n",
       "    <tr>\n",
       "      <th>113</th>\n",
       "      <td>504</td>\n",
       "      <td>306050512</td>\n",
       "      <td>IR THROMBOLYSIS</td>\n",
       "      <td>71220.0</td>\n",
       "      <td>97860.0</td>\n",
       "      <td>155400.0</td>\n",
       "      <td>THROMBOLYSIS_PROC</td>\n",
       "    </tr>\n",
       "    <tr>\n",
       "      <th>119</th>\n",
       "      <td>504</td>\n",
       "      <td>306050512</td>\n",
       "      <td>IR THROMBOLYSIS</td>\n",
       "      <td>56160.0</td>\n",
       "      <td>97860.0</td>\n",
       "      <td>NaN</td>\n",
       "      <td>THROMBOLYSIS_PROC</td>\n",
       "    </tr>\n",
       "    <tr>\n",
       "      <th>123</th>\n",
       "      <td>504</td>\n",
       "      <td>306050512</td>\n",
       "      <td>IR THROMBOLYSIS</td>\n",
       "      <td>42000.0</td>\n",
       "      <td>42000.0</td>\n",
       "      <td>69000.0</td>\n",
       "      <td>THROMBOLYSIS_PROC</td>\n",
       "    </tr>\n",
       "    <tr>\n",
       "      <th>974</th>\n",
       "      <td>504</td>\n",
       "      <td>306050512</td>\n",
       "      <td>ALTEPLASE INFUSION (RADIOLOGY)</td>\n",
       "      <td>48840.0</td>\n",
       "      <td>51060.0</td>\n",
       "      <td>NaN</td>\n",
       "      <td>THROMBOLYSIS</td>\n",
       "    </tr>\n",
       "  </tbody>\n",
       "</table>\n",
       "</div>"
      ],
      "text/plain": [
       "     PATIENT_ID    HSP_ENC                            NAME  \\\n",
       "111         504  306050512                 IR THROMBOLYSIS   \n",
       "113         504  306050512                 IR THROMBOLYSIS   \n",
       "119         504  306050512                 IR THROMBOLYSIS   \n",
       "123         504  306050512                 IR THROMBOLYSIS   \n",
       "974         504  306050512  ALTEPLASE INFUSION (RADIOLOGY)   \n",
       "\n",
       "     ORDER_TIME_DIFFSEC  PROC_START_TIME_DIFFSEC  PROC_ENDING_TIME_DIFFSEC  \\\n",
       "111             41940.0                  42000.0                       NaN   \n",
       "113             71220.0                  97860.0                  155400.0   \n",
       "119             56160.0                  97860.0                       NaN   \n",
       "123             42000.0                  42000.0                   69000.0   \n",
       "974             48840.0                  51060.0                       NaN   \n",
       "\n",
       "              name_gen  \n",
       "111  THROMBOLYSIS_PROC  \n",
       "113  THROMBOLYSIS_PROC  \n",
       "119  THROMBOLYSIS_PROC  \n",
       "123  THROMBOLYSIS_PROC  \n",
       "974       THROMBOLYSIS  "
      ]
     },
     "execution_count": 30,
     "metadata": {},
     "output_type": "execute_result"
    }
   ],
   "source": [
    "dfOutcome[dfOutcome['HSP_ENC']==306050512]"
   ]
  },
  {
   "cell_type": "code",
   "execution_count": null,
   "metadata": {},
   "outputs": [],
   "source": []
  }
 ],
 "metadata": {
  "kernelspec": {
   "display_name": "Python 3",
   "language": "python",
   "name": "python3"
  },
  "language_info": {
   "codemirror_mode": {
    "name": "ipython",
    "version": 3
   },
   "file_extension": ".py",
   "mimetype": "text/x-python",
   "name": "python",
   "nbconvert_exporter": "python",
   "pygments_lexer": "ipython3",
   "version": "3.7.5"
  }
 },
 "nbformat": 4,
 "nbformat_minor": 2
}
