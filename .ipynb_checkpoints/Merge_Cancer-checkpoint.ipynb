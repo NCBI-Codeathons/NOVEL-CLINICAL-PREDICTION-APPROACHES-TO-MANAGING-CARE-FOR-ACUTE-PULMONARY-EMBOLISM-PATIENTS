{
 "cells": [
  {
   "cell_type": "code",
   "execution_count": 3,
   "metadata": {},
   "outputs": [],
   "source": [
    "import pandas as pd\n",
    "import numpy as np"
   ]
  },
  {
   "cell_type": "code",
   "execution_count": 6,
   "metadata": {},
   "outputs": [],
   "source": [
    "#Paths to files\n",
    "encounter_path = \"C:\\\\Users\\\\winsk\\\\Desktop\\\\UTSW Data\\\\df_encounter.csv\"\n",
    "cancer_path = \"C:\\\\Users\\\\winsk\\\\Desktop\\\\UTSW Data\\\\df_cancer.csv\""
   ]
  },
  {
   "cell_type": "code",
   "execution_count": 7,
   "metadata": {},
   "outputs": [],
   "source": [
    "#Read in dataframes\n",
    "encounter_df = pd.read_csv(encounter_path)\n",
    "cancer_df = pd.read_csv(cancer_path)"
   ]
  },
  {
   "cell_type": "code",
   "execution_count": 1,
   "metadata": {},
   "outputs": [],
   "source": [
    "#function to merge cancer data\n",
    "def merge_cancer(enc_df, cnc_df):\n",
    "    #Make modifications to cancer df\n",
    "    mod_cancer_df = cnc_df.copy()\n",
    "    mod_cancer_df.set_index(\"HSP_ENC\", inplace = True)\n",
    "    mod_cancer_df.reset_index(level=0, inplace=True)\n",
    "    mod_cancer_df.loc[mod_cancer_df.cancer_at_enc == 'Unknown, Missing Remission Date', 'cancer_at_enc'] = 'Unknown'\n",
    "    mod_cancer_df.loc[mod_cancer_df.cancer_at_enc == 'Unknown, Previously Positive', 'cancer_at_enc'] = 'Unknown'\n",
    "    mod_cancer_df.loc[mod_cancer_df.cancer_at_enc == 'Unknown, Not Documented', 'cancer_at_enc'] = 'Unknown'\n",
    "    mod_cancer_df.loc[mod_cancer_df.cancer_at_enc == 'Unknown, Not documented', 'cancer_at_enc'] = 'Unknown'\n",
    "    mod_cancer_df.loc[mod_cancer_df.cancer_at_enc == 'No Cancer', 'cancer_at_enc'] = '1'\n",
    "    mod_cancer_df.loc[mod_cancer_df.cancer_at_enc == 'Unknown', 'cancer_at_enc'] = '2'\n",
    "    mod_cancer_df.loc[mod_cancer_df.cancer_at_enc == 'Cancer', 'cancer_at_enc'] = '3'\n",
    "    mod_cancer_df['cancer_at_enc'] = mod_cancer_df['cancer_at_enc'].astype(int)\n",
    "    mod_cancer_df.drop_duplicates(['PATIENT_ID', 'HSP_ENC'])\n",
    "    \n",
    "    #Take only cancer status column with max value\n",
    "    drop_cancer_df = mod_cancer_df[['HSP_ENC', 'cancer_at_enc']]\n",
    "    drop_cancer_df = drop_cancer_df.groupby('HSP_ENC',group_keys=False).apply(lambda x: x.loc[x['cancer_at_enc']==x['cancer_at_enc'].max()])\n",
    "\n",
    "    #Merge with encounter df and drop dups\n",
    "    mergeRes = pd.merge(enc_df, drop_cancer_df, on='HSP_ENC', how='left')\n",
    "    mergeRes = mergeRes.drop_duplicates('HSP_ENC')\n",
    "\n",
    "    #Replace NaN in encounter df with 0 (Never had cancer)\n",
    "    mergeRes['cancer_at_enc'].fillna(0, inplace=True)\n",
    "    \n",
    "    #Renaming the cancer column\n",
    "    mergeRes.rename(columns={'cancer_at_enc': 'CANCER_RANK'}, inplace=True)\n",
    "    \n",
    "    return mergeRes.reset_index(drop=True)"
   ]
  },
  {
   "cell_type": "code",
   "execution_count": 8,
   "metadata": {},
   "outputs": [],
   "source": [
    "out = merge_cancer(encounter_df, cancer_df)"
   ]
  },
  {
   "cell_type": "code",
   "execution_count": 9,
   "metadata": {},
   "outputs": [
    {
     "data": {
      "text/plain": [
       "CANCER_RANK\n",
       "1.0      75\n",
       "2.0     172\n",
       "3.0     366\n",
       "0.0    1029\n",
       "Name: HSP_ENC, dtype: int64"
      ]
     },
     "execution_count": 9,
     "metadata": {},
     "output_type": "execute_result"
    }
   ],
   "source": [
    "cancer_grp = out.groupby(['CANCER_RANK']).agg('count')\n",
    "cancer_grp_count = cancer_grp.sort_values(['HSP_ENC'], ascending=True)\n",
    "cancer_grp_count.iloc[:,1]"
   ]
  },
  {
   "cell_type": "code",
   "execution_count": null,
   "metadata": {},
   "outputs": [],
   "source": []
  },
  {
   "cell_type": "code",
   "execution_count": null,
   "metadata": {},
   "outputs": [],
   "source": []
  },
  {
   "cell_type": "code",
   "execution_count": null,
   "metadata": {},
   "outputs": [],
   "source": []
  },
  {
   "cell_type": "code",
   "execution_count": null,
   "metadata": {},
   "outputs": [],
   "source": []
  }
 ],
 "metadata": {
  "kernelspec": {
   "display_name": "Python 3",
   "language": "python",
   "name": "python3"
  },
  "language_info": {
   "codemirror_mode": {
    "name": "ipython",
    "version": 3
   },
   "file_extension": ".py",
   "mimetype": "text/x-python",
   "name": "python",
   "nbconvert_exporter": "python",
   "pygments_lexer": "ipython3",
   "version": "3.7.0"
  }
 },
 "nbformat": 4,
 "nbformat_minor": 2
}
