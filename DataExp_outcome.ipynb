{
 "cells": [
  {
   "cell_type": "code",
   "execution_count": 106,
   "metadata": {},
   "outputs": [],
   "source": [
    "import nltk"
   ]
  },
  {
   "cell_type": "code",
   "execution_count": 305,
   "metadata": {},
   "outputs": [],
   "source": [
    "import pandas as pd\n",
    "import numpy as np\n",
    "import os\n",
    "import matplotlib.pyplot as plt\n",
    "from sklearn.metrics import confusion_matrix\n",
    "from sklearn.utils.multiclass import unique_labels\n",
    "import seaborn as sns\n",
    "%matplotlib inline"
   ]
  },
  {
   "cell_type": "code",
   "execution_count": 313,
   "metadata": {},
   "outputs": [],
   "source": [
    "strDataDir = '/project/hackathon/hackers09/shared/data/'\n",
    "strEchoCsv = os.path.join(strDataDir, 'df_echo.csv')\n",
    "strRadCsv = os.path.join(strDataDir, 'df_radiology.csv')\n",
    "strOutcomeCsv = os.path.join(strDataDir, 'df_outcome.csv')\n",
    "strEncounterCsv = os.path.join(strDataDir, 'df_encounter.csv')"
   ]
  },
  {
   "cell_type": "code",
   "execution_count": 314,
   "metadata": {},
   "outputs": [],
   "source": [
    "dfEcho = pd.read_csv(strEchoCsv, encoding='ISO-8859-1')\n",
    "dfRad = pd.read_csv(strRadCsv, encoding='ISO-8859-1')\n",
    "dfOutcome = pd.read_csv(strOutcomeCsv, encoding='ISO-8859-1')\n",
    "dfEncounter = pd.read_csv(strEncounterCsv, encoding='ISO-8859-1')"
   ]
  },
  {
   "cell_type": "code",
   "execution_count": 293,
   "metadata": {},
   "outputs": [],
   "source": [
    "def merge_outcome_echo(dfOutcome, dfEcho):\n",
    "    \"\"\"\n",
    "    Merge outcome and echo dataframes after expanding each \n",
    "    to have single row per encounter.\n",
    "    \n",
    "    return: dfEchoAndOutcome, dfExpandedEcho, dfExpandedOutcome\n",
    "    \"\"\"\n",
    "    \n",
    "    ## Outcome expansion\n",
    "    # Create columns for each unique outcome\n",
    "    lsCols = []\n",
    "    for strOutcome in dfOutcome['name_gen'].value_counts().index:\n",
    "        lsCols += [strCol + '_' + strOutcome for strCol in dfOutcome.columns[2:]]\n",
    "        \n",
    "    lsUniqueCols = dfOutcome.columns[2:].tolist()\n",
    "\n",
    "    dfExpandedOutcome = pd.DataFrame(columns=lsCols+['PATIENT_ID'])\n",
    "    dfExpandedOutcome['HSP_ENC'] = dfOutcome['HSP_ENC'].value_counts().index\n",
    "    dfExpandedOutcome = dfExpandedOutcome.set_index('HSP_ENC')\n",
    "\n",
    "    for nEnc in dfOutcome['HSP_ENC'].value_counts().index:\n",
    "        for nIdx in dfOutcome[dfOutcome['HSP_ENC']==nEnc].index:\n",
    "            lsTempCols = [strCol + '_' + dfOutcome.at[nIdx, 'name_gen'] for strCol in lsUniqueCols]\n",
    "            lsTempCols.append('PATIENT_ID')\n",
    "            dfExpandedOutcome.loc[nEnc, lsTempCols] = dfOutcome.loc[nIdx, lsUniqueCols+['PATIENT_ID']].values\n",
    "            \n",
    "    # Create boolean column for order time < 48 hrs for any outcome\n",
    "    lsOrderTimeCols = [strCol for strCol in dfExpandedOutcome.columns if 'ORDER_TIME' in strCol]\n",
    "    \n",
    "    dfExpandedOutcome['b48hr'] = np.zeros(dfExpandedOutcome.shape[0])\n",
    "    for nEnc in dfExpandedOutcome.index:\n",
    "        for nVal in dfExpandedOutcome.loc[nEnc, lsOrderTimeCols].values:\n",
    "            if nVal < 172800:\n",
    "                dfExpandedOutcome.at[nEnc, 'b48hr'] = 1\n",
    "                \n",
    "    # Column for minimum order time from all outcomes\n",
    "    dfExpandedOutcome['MinOrderTime'] = dfExpandedOutcome.loc[:, lsOrderTimeCols].min(axis=1)\n",
    "    dfExpandedOutcome = dfExpandedOutcome.sort_values('MinOrderTime')\n",
    "    \n",
    "    ## Echo expansion\n",
    "    # Create columns for unique lines in echo narrative\n",
    "    lsExpandedEchoCols = []\n",
    "    for strNewLine in dfEcho['new_line'].value_counts().index.astype(str):\n",
    "        lsExpandedEchoCols += [strCol + '_' + strNewLine for strCol in dfEcho.columns[3:]]\n",
    "        \n",
    "    lsUniqueEchoCols = dfEcho.columns[3:].tolist()\n",
    "\n",
    "    dfExpandedEcho = pd.DataFrame(columns=['PATIENT_ID']+lsExpandedEchoCols)\n",
    "    dfExpandedEcho['HSP_ENC'] = dfEcho['HSP_ENC'].value_counts().index\n",
    "    dfExpandedEcho = dfExpandedEcho.set_index('HSP_ENC')\n",
    "\n",
    "    for nEnc in dfEcho['HSP_ENC'].value_counts().index:\n",
    "        for nIdx in dfEcho[dfEcho['HSP_ENC']==nEnc].index:\n",
    "            lsTempCols = [strCol + '_' + dfEcho.at[nIdx, 'new_line'].astype(str) for strCol in lsUniqueEchoCols]\n",
    "            lsTempCols = ['PATIENT_ID'] + lsTempCols\n",
    "            dfExpandedEcho.loc[nEnc, lsTempCols] = dfEcho.loc[nIdx, ['PATIENT_ID']+lsUniqueEchoCols].values\n",
    "            \n",
    "    # Create boolean column for severe present in any narrative\n",
    "    lsEchoNarrativeCols = [strCol for strCol in dfExpandedEcho.columns if 'NARRATIVE' in strCol]\n",
    "    \n",
    "    dfExpandedEcho['bSevereInNarrative'] = np.zeros(dfExpandedEcho.shape[0], dtype=bool)\n",
    "    for nEnc in dfExpandedEcho.index:\n",
    "        for strNarrative in dfExpandedEcho.loc[nEnc, lsEchoNarrativeCols].dropna().values:\n",
    "            strNarrative = strNarrative.lower()\n",
    "            if 'severe' in strNarrative:\n",
    "                dfExpandedEcho.at[nEnc, 'bSevereInNarrative'] = True\n",
    "                \n",
    "    # Merge dataframes\n",
    "    dfEchoAndOutcome = dfExpandedEcho.merge(dfExpandedOutcome.drop('PATIENT_ID', axis=1), how='left', on='HSP_ENC')\n",
    "    dfEchoAndOutcome['b48hr'] = dfEchoAndOutcome['b48hr'].fillna(0.0).astype(bool)    \n",
    "    \n",
    "    return dfEchoAndOutcome, dfExpandedEcho, dfExpandedOutcome"
   ]
  },
  {
   "cell_type": "code",
   "execution_count": 295,
   "metadata": {},
   "outputs": [],
   "source": [
    "dfEchoAndOutcome, dfExpandedEcho, dfExpandedOutcome = merge_outcome_echo(dfOutcome, dfEcho)"
   ]
  },
  {
   "cell_type": "code",
   "execution_count": null,
   "metadata": {},
   "outputs": [],
   "source": []
  },
  {
   "cell_type": "code",
   "execution_count": 298,
   "metadata": {},
   "outputs": [
    {
     "data": {
      "text/plain": [
       "Index(['PATIENT_ID', 'HSP_ENC', 'NAME', 'ORDER_TIME_DIFFSEC',\n",
       "       'PROC_START_TIME_DIFFSEC', 'PROC_ENDING_TIME_DIFFSEC', 'name_gen'],\n",
       "      dtype='object')"
      ]
     },
     "execution_count": 298,
     "metadata": {},
     "output_type": "execute_result"
    }
   ],
   "source": [
    "dfOutcome.columns"
   ]
  },
  {
   "cell_type": "code",
   "execution_count": 307,
   "metadata": {},
   "outputs": [
    {
     "data": {
      "text/plain": [
       "VASOPRESSORS         678\n",
       "DEATH                120\n",
       "CPR                  110\n",
       "INTUBATION            85\n",
       "THROMBOLYSIS_PROC     63\n",
       "THROMBOLYSIS          54\n",
       "PPV                   18\n",
       "Name: name_gen, dtype: int64"
      ]
     },
     "execution_count": 307,
     "metadata": {},
     "output_type": "execute_result"
    }
   ],
   "source": [
    "# Get counts of each outcome\n",
    "srsOutcomeCounts = dfOutcome['name_gen'].value_counts()\n",
    "srsOutcomeCounts"
   ]
  },
  {
   "cell_type": "code",
   "execution_count": 301,
   "metadata": {},
   "outputs": [
    {
     "data": {
      "text/plain": [
       "VASOPRESSORS         312\n",
       "INTUBATION            40\n",
       "CPR                   34\n",
       "THROMBOLYSIS          34\n",
       "THROMBOLYSIS_PROC     33\n",
       "PPV                   18\n",
       "DEATH                 13\n",
       "Name: name_gen, dtype: int64"
      ]
     },
     "execution_count": 301,
     "metadata": {},
     "output_type": "execute_result"
    }
   ],
   "source": [
    "# Get counts of each 48 hour outcome \n",
    "srs48hrOutcomeCounts = dfOutcome[dfOutcome['ORDER_TIME_DIFFSEC']<172800]['name_gen'].value_counts()\n",
    "srs48hrOutcomeCounts"
   ]
  },
  {
   "cell_type": "code",
   "execution_count": 309,
   "metadata": {},
   "outputs": [
    {
     "data": {
      "text/plain": [
       "484"
      ]
     },
     "execution_count": 309,
     "metadata": {},
     "output_type": "execute_result"
    }
   ],
   "source": [
    "srs48hrOutcomeCounts.sum()"
   ]
  },
  {
   "cell_type": "code",
   "execution_count": 312,
   "metadata": {},
   "outputs": [
    {
     "data": {
      "text/plain": [
       "<matplotlib.legend.Legend at 0x7fffad25a950>"
      ]
     },
     "execution_count": 312,
     "metadata": {},
     "output_type": "execute_result"
    },
    {
     "data": {
      "image/png": "[encoded data removed]",
      "text/plain": [
       "<Figure size 432x288 with 1 Axes>"
      ]
     },
     "metadata": {
      "needs_background": "light"
     },
     "output_type": "display_data"
    }
   ],
   "source": [
    "ax = sns.barplot(y=srs48hrOutcomeCounts.index,\n",
    "                 x=srs48hrOutcomeCounts.values,\n",
    "                 orient='h', label='48 hr')\n",
    "sns.barplot(y=srsOutcomeCounts.index,\n",
    "            x=srsOutcomeCounts.values,\n",
    "            orient='h', alpha=0.5, ax=ax, label='Any time')\n",
    "ax.legend()\n",
    "ax.set_ylabel()"
   ]
  },
  {
   "cell_type": "code",
   "execution_count": 252,
   "metadata": {},
   "outputs": [],
   "source": [
    "dfExpandedOutcome.to_csv(os.path.join(strDataDir, 'df_expanded_outcome.csv'))"
   ]
  },
  {
   "cell_type": "code",
   "execution_count": 110,
   "metadata": {
    "collapsed": true
   },
   "outputs": [
    {
     "data": {
      "text/plain": [
       "(-50, 4606.7116071290575)"
      ]
     },
     "execution_count": 110,
     "metadata": {},
     "output_type": "execute_result"
    },
    {
     "data": {
      "image/png": "[encoded data removed]",
      "text/plain": [
       "<Figure size 1728x360 with 1 Axes>"
      ]
     },
     "metadata": {
      "needs_background": "light"
     },
     "output_type": "display_data"
    }
   ],
   "source": [
    "fig, ax = plt.subplots(figsize=(24, 5))\n",
    "for strOrderTimeCol in lsOrderTimeCols:\n",
    "    ax.scatter(dfExpandedOutcome.index, dfExpandedOutcome.loc[:, strOrderTimeCol]/3600, c='b', alpha=0.5)\n",
    "ax.axhline(y=48, linestyle='--')\n",
    "ax.set_xticklabels(dfExpandedOutcome.index)\n",
    "ax.set_ylim(-50)"
   ]
  },
  {
   "cell_type": "code",
   "execution_count": 270,
   "metadata": {},
   "outputs": [],
   "source": [
    "lsProportion = []\n",
    "srsSeverePresent = dfEchoAndOutcome['bSevereInNarrative'].value_counts()\n",
    "srs48hrSeverePresent = dfEchoAndOutcome[dfEchoAndOutcome['bSevereInNarrative']]['b48hr'].value_counts()\n",
    "lsProportion.append(srs48hrSeverePresent[True]/srsSeverePresent[True])\n",
    "lsProportion.append(srs48hrSeverePresent[False]/srsSeverePresent[True])"
   ]
  },
  {
   "cell_type": "code",
   "execution_count": 273,
   "metadata": {},
   "outputs": [
    {
     "data": {
      "text/plain": [
       "Text(0, 0.5, 'Proportion with 48 hour outcome')"
      ]
     },
     "execution_count": 273,
     "metadata": {},
     "output_type": "execute_result"
    },
    {
     "data": {
      "image/png": "[encoded data removed]",
      "text/plain": [
       "<Figure size 432x288 with 1 Axes>"
      ]
     },
     "metadata": {
      "needs_background": "light"
     },
     "output_type": "display_data"
    }
   ],
   "source": [
    "f, ax = plt.subplots()\n",
    "ax.bar(['severe present', 'severe absent'],\n",
    "       [34/126, 79/610])\n",
    "ax.set_ylabel('Proportion with 48 hour outcome')"
   ]
  },
  {
   "cell_type": "code",
   "execution_count": null,
   "metadata": {},
   "outputs": [],
   "source": []
  }
 ],
 "metadata": {
  "kernelspec": {
   "display_name": "Python 3",
   "language": "python",
   "name": "python3"
  },
  "language_info": {
   "codemirror_mode": {
    "name": "ipython",
    "version": 3
   },
   "file_extension": ".py",
   "mimetype": "text/x-python",
   "name": "python",
   "nbconvert_exporter": "python",
   "pygments_lexer": "ipython3",
   "version": "3.7.5"
  }
 },
 "nbformat": 4,
 "nbformat_minor": 4
}
